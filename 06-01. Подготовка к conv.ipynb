{
 "cells": [
  {
   "cell_type": "markdown",
   "metadata": {},
   "source": [
    "## Сверточные нейронные сети"
   ]
  },
  {
   "cell_type": "markdown",
   "metadata": {},
   "source": [
    "Операция свертки (convolution):"
   ]
  },
  {
   "cell_type": "markdown",
   "metadata": {},
   "source": [
    "![alt text](img/conv-01.gif \"Title\")"
   ]
  },
  {
   "cell_type": "markdown",
   "metadata": {},
   "source": [
    "У свертки есть ядро (kernel) - матрица, веса которой ищутся в процессе обучения"
   ]
  },
  {
   "cell_type": "markdown",
   "metadata": {},
   "source": [
    "![alt text](img/conv-02.gif \"Title\")"
   ]
  },
  {
   "cell_type": "markdown",
   "metadata": {},
   "source": [
    "Свертки позволяют находить паттерны (*features*)"
   ]
  },
  {
   "cell_type": "markdown",
   "metadata": {},
   "source": [
    "![alt text](img/conv-03.jpg \"Title\")"
   ]
  },
  {
   "cell_type": "markdown",
   "metadata": {},
   "source": [
    "У свертки есть:\n",
    "* Размер ядра (kernel_size)\n",
    "* Размер шага (strides)\n",
    "* Отступ (padding)"
   ]
  },
  {
   "cell_type": "markdown",
   "metadata": {},
   "source": [
    "![alt text](img/conv-04.gif \"Title\")"
   ]
  },
  {
   "cell_type": "markdown",
   "metadata": {},
   "source": [
    "Светочный слой нейросети [Conv2D](https://www.tensorflow.org/api_docs/python/tf/keras/layers/Conv2D) состоит из множества сверток (каждая со своим ядром и каждая нацелевается при обучении на свой паттерн)"
   ]
  },
  {
   "cell_type": "markdown",
   "metadata": {},
   "source": [
    "![alt text](img/conv-05.jpg \"Title\")"
   ]
  },
  {
   "cell_type": "markdown",
   "metadata": {},
   "source": [
    "На выходе сверточного слоя получаются карты признаков (*feature maps*). Это огромное количество информации, даже больше чем в исходном изображении.\n",
    "\n",
    "Поэтому используется техника понижения размерности (*downsampling*) - **pooling**. Разновидности: MaxPooling и AveragePooling"
   ]
  },
  {
   "cell_type": "markdown",
   "metadata": {},
   "source": [
    "![alt text](img/conv-06.jpg \"Title\")"
   ]
  },
  {
   "cell_type": "markdown",
   "metadata": {},
   "source": [
    "Операции свертки и понижения размерности могут производится несколько раз, следуя друг за другом (*feature extraction*)"
   ]
  },
  {
   "cell_type": "markdown",
   "metadata": {},
   "source": [
    "В конце, информацию необходимо \"распрямить\", получив обычный вектор (размерности 1хN). Сделать это можно операциями [GlobalAveragePooling](https://www.tensorflow.org/api_docs/python/tf/keras/layers/GlobalAveragePooling2D) или [Flatten](https://www.tensorflow.org/api_docs/python/tf/keras/layers/Flatten)"
   ]
  },
  {
   "cell_type": "markdown",
   "metadata": {},
   "source": [
    "![alt text](img/conv-07.png \"Title\")"
   ]
  },
  {
   "cell_type": "markdown",
   "metadata": {},
   "source": [
    "Такой вектор описывает найденные признаки и называется **embedding**"
   ]
  },
  {
   "cell_type": "markdown",
   "metadata": {},
   "source": [
    "На финальном этапе, вектор признаков можно подать в качестве входа на стандартную нейросеть классификации (как в ирисах)"
   ]
  },
  {
   "cell_type": "markdown",
   "metadata": {},
   "source": [
    "![alt text](img/conv-08.jpg \"Title\")"
   ]
  },
  {
   "cell_type": "code",
   "execution_count": 1,
   "metadata": {},
   "outputs": [],
   "source": [
    "from PIL import Image\n",
    "import numpy as np\n",
    "import cv2\n",
    "\n",
    "img = Image.open('/opt/datasets/MNIST/train/0/56940.png')\n",
    "img2 = cv2.imread('/opt/datasets/MNIST/train/0/56940.png', cv2.IMREAD_GRAYSCALE)"
   ]
  },
  {
   "cell_type": "code",
   "execution_count": 2,
   "metadata": {},
   "outputs": [
    {
     "data": {
      "text/plain": [
       "(28, 28)"
      ]
     },
     "execution_count": 2,
     "metadata": {},
     "output_type": "execute_result"
    }
   ],
   "source": [
    "#np.array(img)\n",
    "img2.shape"
   ]
  },
  {
   "cell_type": "code",
   "execution_count": 3,
   "metadata": {},
   "outputs": [],
   "source": [
    "import os\n",
    "os.environ[\"CUDA_DEVICE_ORDER\"] = \"PCI_BUS_ID\" \n",
    "os.environ[\"CUDA_VISIBLE_DEVICES\"] = \"0\"\n",
    "\n",
    "import tensorflow as tf\n",
    "tf.get_logger().setLevel('ERROR')\n",
    "os.environ['TF_CPP_MIN_LOG_LEVEL'] = \"2\""
   ]
  },
  {
   "cell_type": "code",
   "execution_count": 4,
   "metadata": {},
   "outputs": [
    {
     "name": "stdout",
     "output_type": "stream",
     "text": [
      "Found 60000 images belonging to 10 classes.\n",
      "Found 10000 images belonging to 10 classes.\n"
     ]
    }
   ],
   "source": [
    "datagen = tf.keras.preprocessing.image.ImageDataGenerator(\n",
    "    #data_format = 'channels_first',\n",
    "    #preprocessing_function = insightface_preprocess_input,\n",
    "    #dtype = np.float64,\n",
    "    validation_split = 0.05,\n",
    "    #horizontal_flip = True,\n",
    "    #rotation_range = 10,\n",
    "    #zoom_range = [0.9, 1.1],\n",
    ")\n",
    "\n",
    "generator_args = {\n",
    "    'target_size': (28, 28),\n",
    "    'color_mode': 'grayscale',\n",
    "    'class_mode': 'categorical',\n",
    "    'batch_size': 32,\n",
    "}\n",
    "\n",
    "train_generator = datagen.flow_from_directory(directory = '/opt/datasets/MNIST/train', 'shuffle': True, **generator_args)\n",
    "val_generator = datagen.flow_from_directory(directory = '/opt/datasets/MNIST/test', **generator_args)"
   ]
  },
  {
   "cell_type": "code",
   "execution_count": 96,
   "metadata": {},
   "outputs": [
    {
     "data": {
      "text/plain": [
       "(32, 28, 28, 1)"
      ]
     },
     "execution_count": 96,
     "metadata": {},
     "output_type": "execute_result"
    }
   ],
   "source": [
    "data = train_generator.next()\n",
    "data[0].shape"
   ]
  },
  {
   "cell_type": "code",
   "execution_count": 5,
   "metadata": {},
   "outputs": [],
   "source": [
    "#train_generator.class_indices"
   ]
  },
  {
   "cell_type": "code",
   "execution_count": 6,
   "metadata": {},
   "outputs": [
    {
     "name": "stdout",
     "output_type": "stream",
     "text": [
      "Model: \"sequential\"\n",
      "_________________________________________________________________\n",
      " Layer (type)                Output Shape              Param #   \n",
      "=================================================================\n",
      " conv2d (Conv2D)             (None, 26, 26, 32)        320       \n",
      "                                                                 \n",
      " max_pooling2d (MaxPooling2D  (None, 13, 13, 32)       0         \n",
      " )                                                               \n",
      "                                                                 \n",
      " conv2d_1 (Conv2D)           (None, 11, 11, 32)        9248      \n",
      "                                                                 \n",
      " max_pooling2d_1 (MaxPooling  (None, 5, 5, 32)         0         \n",
      " 2D)                                                             \n",
      "                                                                 \n",
      " flatten (Flatten)           (None, 800)               0         \n",
      "                                                                 \n",
      " dense (Dense)               (None, 10)                8010      \n",
      "                                                                 \n",
      "=================================================================\n",
      "Total params: 17,578\n",
      "Trainable params: 17,578\n",
      "Non-trainable params: 0\n",
      "_________________________________________________________________\n"
     ]
    }
   ],
   "source": [
    "model = tf.keras.Sequential()\n",
    "model.add(tf.keras.Input(shape=(28, 28, 1)))\n",
    "model.add(tf.keras.layers.Conv2D(32, kernel_size=(3, 3), activation=\"relu\")) \n",
    "model.add(tf.keras.layers.MaxPooling2D(pool_size=(2, 2))) \n",
    "model.add(tf.keras.layers.Conv2D(32, kernel_size=(3, 3), activation=\"relu\")) \n",
    "model.add(tf.keras.layers.MaxPooling2D(pool_size=(2, 2))) \n",
    "model.add(tf.keras.layers.Flatten())\n",
    "model.add(tf.keras.layers.Dense(10, activation=\"softmax\"))\n",
    "\n",
    "model.summary()"
   ]
  },
  {
   "cell_type": "code",
   "execution_count": 7,
   "metadata": {},
   "outputs": [],
   "source": [
    "model.compile(\n",
    "    optimizer = tf.keras.optimizers.Adam(),    # learning_rate = 1e-5\n",
    "    loss = 'categorical_crossentropy',\n",
    "    metrics = ['accuracy'],\n",
    ")"
   ]
  },
  {
   "cell_type": "code",
   "execution_count": 8,
   "metadata": {},
   "outputs": [
    {
     "name": "stdout",
     "output_type": "stream",
     "text": [
      "Epoch 1/15\n",
      "1875/1875 [==============================] - 1832s 959ms/step - loss: 0.3990 - accuracy: 0.9288 - val_loss: 0.0916 - val_accuracy: 0.9727\n",
      "Epoch 2/15\n",
      "1875/1875 [==============================] - 43s 23ms/step - loss: 0.0821 - accuracy: 0.9757 - val_loss: 0.0637 - val_accuracy: 0.9820\n",
      "Epoch 3/15\n",
      "1875/1875 [==============================] - 17s 9ms/step - loss: 0.0640 - accuracy: 0.9808 - val_loss: 0.0748 - val_accuracy: 0.9782\n",
      "Epoch 4/15\n",
      "1875/1875 [==============================] - 17s 9ms/step - loss: 0.0526 - accuracy: 0.9844 - val_loss: 0.0691 - val_accuracy: 0.9797\n",
      "Epoch 5/15\n",
      "1875/1875 [==============================] - 17s 9ms/step - loss: 0.0488 - accuracy: 0.9853 - val_loss: 0.0525 - val_accuracy: 0.9826\n",
      "Epoch 6/15\n",
      "1875/1875 [==============================] - 17s 9ms/step - loss: 0.0406 - accuracy: 0.9874 - val_loss: 0.0580 - val_accuracy: 0.9854\n",
      "Epoch 7/15\n",
      "1875/1875 [==============================] - 17s 9ms/step - loss: 0.0377 - accuracy: 0.9888 - val_loss: 0.0550 - val_accuracy: 0.9840\n",
      "Epoch 8/15\n",
      "1875/1875 [==============================] - 17s 9ms/step - loss: 0.0363 - accuracy: 0.9889 - val_loss: 0.0770 - val_accuracy: 0.9808\n",
      "Epoch 9/15\n",
      "1875/1875 [==============================] - 17s 9ms/step - loss: 0.0347 - accuracy: 0.9898 - val_loss: 0.0529 - val_accuracy: 0.9865\n",
      "Epoch 10/15\n",
      "1875/1875 [==============================] - 17s 9ms/step - loss: 0.0313 - accuracy: 0.9908 - val_loss: 0.0753 - val_accuracy: 0.9834\n",
      "Epoch 11/15\n",
      "1875/1875 [==============================] - 17s 9ms/step - loss: 0.0270 - accuracy: 0.9919 - val_loss: 0.0669 - val_accuracy: 0.9858\n",
      "Epoch 12/15\n",
      "1875/1875 [==============================] - 17s 9ms/step - loss: 0.0274 - accuracy: 0.9919 - val_loss: 0.0625 - val_accuracy: 0.9854\n",
      "Epoch 13/15\n",
      "1875/1875 [==============================] - 17s 9ms/step - loss: 0.0245 - accuracy: 0.9929 - val_loss: 0.0678 - val_accuracy: 0.9853\n",
      "Epoch 14/15\n",
      "1875/1875 [==============================] - 17s 9ms/step - loss: 0.0254 - accuracy: 0.9931 - val_loss: 0.0982 - val_accuracy: 0.9813\n",
      "Epoch 15/15\n",
      "1875/1875 [==============================] - 17s 9ms/step - loss: 0.0242 - accuracy: 0.9932 - val_loss: 0.1003 - val_accuracy: 0.9844\n"
     ]
    }
   ],
   "source": [
    "EPOCHS = 15\n",
    "\n",
    "history = model.fit(\n",
    "    x = train_generator,\n",
    "    batch_size = 32,\n",
    "    validation_data = val_generator,\n",
    "    epochs = EPOCHS,\n",
    ")"
   ]
  },
  {
   "cell_type": "code",
   "execution_count": 10,
   "metadata": {},
   "outputs": [
    {
     "data": {
      "text/plain": [
       "<matplotlib.legend.Legend at 0x7f282c06b250>"
      ]
     },
     "execution_count": 10,
     "metadata": {},
     "output_type": "execute_result"
    },
    {
     "data": {
      "image/png": "[encoded data removed]",
      "text/plain": [
       "<Figure size 1152x360 with 2 Axes>"
      ]
     },
     "metadata": {
      "needs_background": "light"
     },
     "output_type": "display_data"
    }
   ],
   "source": [
    "import matplotlib.pyplot as plt\n",
    "\n",
    "fig = plt.figure(figsize=(16, 5))\n",
    "\n",
    "ax = fig.add_subplot(121)\n",
    "ax.plot(history.history['loss'])\n",
    "ax.plot(history.history['val_loss'])\n",
    "ax.set_title('model loss')\n",
    "ax.set_ylabel('loss')\n",
    "ax.set_xlabel('Epochs')\n",
    "ax.legend(['train', 'val', 'runs'], loc='upper left')\n",
    "\n",
    "ax = fig.add_subplot(122)\n",
    "ax.plot(history.history['accuracy'])\n",
    "ax.plot(history.history['val_accuracy'])\n",
    "ax.set_title('model accuracy')\n",
    "ax.set_ylabel('accuracy')\n",
    "ax.set_xlabel('Epochs')\n",
    "ax.legend(['train', 'val', 'runs'], loc='upper left')"
   ]
  },
  {
   "cell_type": "code",
   "execution_count": 40,
   "metadata": {},
   "outputs": [],
   "source": [
    "from PIL import Image\n",
    "import requests\n",
    "from io import BytesIO\n",
    "\n",
    "response = requests.get('https://www.nicepng.com/png/detail/939-9392093_handwritten-5.png')\n",
    "img = Image.open(BytesIO(response.content))"
   ]
  },
  {
   "cell_type": "code",
   "execution_count": 41,
   "metadata": {},
   "outputs": [
    {
     "data": {
      "text/plain": [
       "(586, 820, 3)"
      ]
     },
     "execution_count": 41,
     "metadata": {},
     "output_type": "execute_result"
    }
   ],
   "source": [
    "np.array(img).shape"
   ]
  },
  {
   "cell_type": "code",
   "execution_count": 84,
   "metadata": {},
   "outputs": [
    {
     "data": {
      "image/png": "[encoded data removed]",
      "text/plain": [
       "<PIL.Image.Image image mode=L size=28x28>"
      ]
     },
     "metadata": {},
     "output_type": "display_data"
    },
    {
     "data": {
      "text/plain": [
       "(28, 28)"
      ]
     },
     "execution_count": 84,
     "metadata": {},
     "output_type": "execute_result"
    }
   ],
   "source": [
    "from PIL import Image, ImageOps\n",
    "\n",
    "gimg = ImageOps.invert(img)\n",
    "gimg = ImageOps.grayscale(gimg)\n",
    "gimg = gimg.resize((28,28), Image.Resampling.LANCZOS)\n",
    "gimg.show()\n",
    "np.array(gimg).shape"
   ]
  },
  {
   "cell_type": "code",
   "execution_count": 89,
   "metadata": {},
   "outputs": [
    {
     "data": {
      "text/plain": [
       "(1, 28, 28)"
      ]
     },
     "execution_count": 89,
     "metadata": {},
     "output_type": "execute_result"
    }
   ],
   "source": [
    "data = np.asarray(gimg)\n",
    "data = data[np.newaxis, ...]\n",
    "data.shape"
   ]
  },
  {
   "cell_type": "code",
   "execution_count": 88,
   "metadata": {},
   "outputs": [
    {
     "data": {
      "text/plain": [
       "3"
      ]
     },
     "execution_count": 88,
     "metadata": {},
     "output_type": "execute_result"
    }
   ],
   "source": [
    "pred = model.predict(data[..., np.newaxis])\n",
    "np.argmax(pred)"
   ]
  }
 ],
 "metadata": {
  "kernelspec": {
   "display_name": "Python 3.8",
   "language": "python",
   "name": "python38"
  },
  "language_info": {
   "codemirror_mode": {
    "name": "ipython",
    "version": 3
   },
   "file_extension": ".py",
   "mimetype": "text/x-python",
   "name": "python",
   "nbconvert_exporter": "python",
   "pygments_lexer": "ipython3",
   "version": "3.8.13"
  }
 },
 "nbformat": 4,
 "nbformat_minor": 4
}
