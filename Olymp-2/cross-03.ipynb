{
 "cells": [
  {
   "cell_type": "code",
   "execution_count": 3,
   "metadata": {},
   "outputs": [
    {
     "name": "stdin",
     "output_type": "stream",
     "text": [
      " 2 2 4\n"
     ]
    },
    {
     "name": "stdout",
     "output_type": "stream",
     "text": [
      "OK\n",
      "OX\n",
      "XO\n",
      "1 1\n"
     ]
    }
   ],
   "source": [
    "n, k, t = map(int, input().split())\n",
    "\n",
    "def count_up(x,y, symbol, count=0):n, k, t = map(int, input().split())\n",
    "\n",
    "def count_up(x,y, symbol, count=0):\n",
    "    if f[y][x] == symbol:\n",
    "        count += 1\n",
    "        if y>0:\n",
    "            return(count_up(x,y-1, symbol, count))\n",
    "    return(count)\n",
    "\n",
    "def count_down(x,y, symbol, count=0):\n",
    "    if f[y][x] == symbol:\n",
    "        count += 1\n",
    "        if y<n-1:\n",
    "            return(count_down(x,y+1, symbol, count))\n",
    "    return(count)\n",
    "\n",
    "def is_vert_free(x,y, symbol):\n",
    "    count = 0\n",
    "    if y>0:\n",
    "        count += count_up(x, y-1, symbol)\n",
    "    if y<n-1:\n",
    "        count += count_down(x, y+1, symbol)\n",
    "    return (count+1 < k)\n",
    "\n",
    "def count_left(x,y, symbol, count=0):\n",
    "    if f[y][x] == symbol:\n",
    "        count += 1\n",
    "        if x>0:\n",
    "            return(count_up(x-1,y, symbol, count))\n",
    "    return(count)\n",
    "\n",
    "def count_right(x,y, symbol, count=0):\n",
    "    if f[y][x] == symbol:\n",
    "        count += 1\n",
    "        if x<n-1:\n",
    "            return(count_down(x+1,y, symbol, count))\n",
    "    return(count)\n",
    "\n",
    "def is_hor_free(x,y, symbol):\n",
    "    count = 0\n",
    "    if x>0:\n",
    "        count += count_left(x-1, y, symbol)\n",
    "    if x<n-1:\n",
    "        count += count_right(x+1, y, symbol)\n",
    "    return (count+1 < k)\n",
    "\n",
    "def count_up_left(x,y, symbol, count=0):\n",
    "    if f[y][x] == symbol:\n",
    "        count += 1\n",
    "        if x>0 and y>0:\n",
    "            return(count_up(x-1,y-1, symbol, count))\n",
    "    return(count)\n",
    "\n",
    "def count_down_right(x,y, symbol, count=0):\n",
    "    if f[y][x] == symbol:\n",
    "        count += 1\n",
    "        if x<n-1 and y<n-1:\n",
    "            return(count_down(x+1,y+1, symbol, count))\n",
    "    return(count)\n",
    "\n",
    "def is_diag1_free(x,y, symbol):\n",
    "    count = 0\n",
    "    if x>0 and y>0:\n",
    "        count += count_up_left(x-1, y-1, symbol)\n",
    "    if x<n-1 and y<n-1:\n",
    "        count += count_down_right(x+1, y+1, symbol)\n",
    "    return (count+1 < k)\n",
    "\n",
    "def count_up_right(x,y, symbol, count=0):\n",
    "    if f[y][x] == symbol:\n",
    "        count += 1\n",
    "        if x<n-1 and y>0:\n",
    "            return(count_up(x+1,y-1, symbol, count))\n",
    "    return(count)\n",
    "\n",
    "def count_down_left(x,y, symbol, count=0):\n",
    "    if f[y][x] == symbol:\n",
    "        count += 1\n",
    "        if x>0 and y<n-1:\n",
    "            return(count_down(x-1,y+1, symbol, count))\n",
    "    return(count)\n",
    "\n",
    "def is_diag2_free(x,y, symbol):\n",
    "    count = 0\n",
    "    if x<n-1 and y>0:\n",
    "        count += count_up_right(x+1, y-1, symbol)\n",
    "    if x>0 and y<n-1:\n",
    "        count += count_down_left(x-1, y+1, symbol)\n",
    "    return (count+1 < k)\n",
    "\n",
    "def is_free(x,y,symbol):\n",
    "    return is_vert_free(x,y,symbol) and is_hor_free(x,y,symbol) and is_diag1_free(x,y,symbol) and is_diag1_free(x,y,symbol)\n",
    "\n",
    "winx = (t % 2) == 1\n",
    "sym = 'X' if winx else 'O'\n",
    "\n",
    "xcount = t//2+1-k if winx else t//2\n",
    "ocount = t//2 if winx  else t//2-k\n",
    "\n",
    "def plan(xcount, ocount):\n",
    "\tfor y in range (0,n):\n",
    "\t\tfor x in range (0,n):\n",
    "\t\t\tif xcount>ocount:\n",
    "\t\t\t\tif f[y][x] == '.' and is_free(x,y,'X') and xcount>0:\n",
    "\t\t\t\t\tf[y][x] = 'X'\n",
    "\t\t\t\t\txcount -= 1\n",
    "\t\t\t\tif f[y][x] == '.' and is_free(x,y,'O') and ocount>0:\n",
    "\t\t\t\t\tf[y][x] = 'O'\n",
    "\t\t\t\t\tocount -= 1\n",
    "\t\t\telse:\n",
    "\t\t\t\tif f[y][x] == '.' and is_free(x,y,'O') and ocount>0:\n",
    "\t\t\t\t\tf[y][x] = 'O'\n",
    "\t\t\t\t\tocount -= 1\n",
    "\t\t\t\tif f[y][x] == '.' and is_free(x,y,'X') and xcount>0:\n",
    "\t\t\t\t\tf[y][x] = 'X'\n",
    "\t\t\t\t\txcount -= 1\n",
    "\treturn (xcount, ocount)\n",
    "\n",
    "succ = False\n",
    "\n",
    "if not succ:\n",
    "\tf = [['.' for i in range (0, n)] for j in range(0,n)]\n",
    "\tfor i in range (0,k):\n",
    "\t\tf[0][i] = sym\n",
    "\txc, oc = plan(xcount, ocount)\n",
    "\n",
    "\tif xc==0 and oc==0:\n",
    "\t\tprint('OK')\n",
    "\t\tfor y in range (0,n):\n",
    "\t\t\tfor x in range (0,n):\n",
    "\t\t\t\tprint(f[y][x], end = '')\n",
    "\t\t\tprint()\n",
    "\t\tprint('1 1')\n",
    "\t\tsucc = True\n",
    "\n",
    "\n",
    "\n",
    "\n",
    "if not succ:\n",
    "\tf = [['.' for i in range (0, n)] for j in range(0,n)]\n",
    "\tfor i in range (0,k):\n",
    "\t\tf[i][i] = sym\n",
    "\txc, oc = plan(xcount, ocount)\n",
    "\n",
    "\tif xc==0 and oc==0:\n",
    "\t\tprint('OK')\n",
    "\t\tfor y in range (0,n):\n",
    "\t\t\tfor x in range (0,n):\n",
    "\t\t\t\tprint(f[y][x], end = '')\n",
    "\t\t\tprint()\n",
    "\t\tprint('1 1')\n",
    "\t\tsucc = True\n",
    "\n",
    "if not succ:\n",
    "    print('impossible')\n",
    "\n"
   ]
  },
  {
   "cell_type": "code",
   "execution_count": 10,
   "metadata": {},
   "outputs": [
    {
     "data": {
      "text/plain": [
       "[['O', 'X'], ['.', 'O']]"
      ]
     },
     "execution_count": 10,
     "metadata": {},
     "output_type": "execute_result"
    }
   ],
   "source": [
    "f"
   ]
  },
  {
   "cell_type": "code",
   "execution_count": 7,
   "metadata": {},
   "outputs": [],
   "source": [
    "f[1][1]='O'"
   ]
  },
  {
   "cell_type": "code",
   "execution_count": 9,
   "metadata": {},
   "outputs": [],
   "source": [
    "f[1][0] = '.'"
   ]
  },
  {
   "cell_type": "code",
   "execution_count": 11,
   "metadata": {},
   "outputs": [
    {
     "data": {
      "text/plain": [
       "False"
      ]
     },
     "execution_count": 11,
     "metadata": {},
     "output_type": "execute_result"
    }
   ],
   "source": [
    "is_diag2_free(0,1,'X')"
   ]
  },
  {
   "cell_type": "code",
   "execution_count": null,
   "metadata": {},
   "outputs": [],
   "source": []
  }
 ],
 "metadata": {
  "kernelspec": {
   "display_name": "Python 3.8",
   "language": "python",
   "name": "python38"
  },
  "language_info": {
   "name": ""
  }
 },
 "nbformat": 4,
 "nbformat_minor": 4
}
