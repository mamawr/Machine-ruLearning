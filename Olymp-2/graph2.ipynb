{
 "cells": [
  {
   "cell_type": "code",
   "execution_count": 35,
   "metadata": {},
   "outputs": [
    {
     "name": "stdin",
     "output_type": "stream",
     "text": [
      " 3 3\n",
      " 1 2\n",
      " 2 3\n",
      " 1 3\n"
     ]
    },
    {
     "name": "stdout",
     "output_type": "stream",
     "text": [
      "3\n",
      "2\n",
      "3\n"
     ]
    }
   ],
   "source": [
    "N, M = map(int, input().split())\n",
    "graph = {}\n",
    "for i in range(1, N+1):\n",
    "    graph[i] = []\n",
    "\n",
    "for i in range(1, M+1):\n",
    "    src, dst = map(int, input().split())\n",
    "    graph[src].append(dst)\n",
    "\n",
    "def search_path(start, end, path=[]):\n",
    "    path += start,\n",
    "    for node in graph[start]:\n",
    "        if node not in path:\n",
    "            if node == end:\n",
    "                path += end,\n",
    "                paths.append(path)\n",
    "            else:\n",
    "                newpath = search_path(node, end, path[:])\n",
    "                if newpath:\n",
    "                    return newpath\n",
    "    return None\n",
    "    \n",
    "paths = []\n",
    "search_path(1, N)\n",
    "\n",
    "lens = [len(path)-1 for path in paths]\n",
    "\n",
    "for i in range(1, N + 1):\n",
    "    dist = 0\n",
    "    for j, path in enumerate(paths):\n",
    "        if i in path:\n",
    "            #dist = dist + len(path) - 1\n",
    "            dist = dist + lens[j]\n",
    "    print(dist)\n",
    "    \n",
    "# 3 3\n",
    "# 1 2\n",
    "# 2 3\n",
    "# 1 3"
   ]
  },
  {
   "cell_type": "code",
   "execution_count": 34,
   "metadata": {},
   "outputs": [
    {
     "data": {
      "text/plain": [
       "[[1, 2, 3], [1, 3]]"
      ]
     },
     "execution_count": 34,
     "metadata": {},
     "output_type": "execute_result"
    }
   ],
   "source": [
    "paths"
   ]
  },
  {
   "cell_type": "code",
   "execution_count": null,
   "metadata": {},
   "outputs": [],
   "source": []
  }
 ],
 "metadata": {
  "kernelspec": {
   "display_name": "Python 3.8",
   "language": "python",
   "name": "python38"
  },
  "language_info": {
   "name": ""
  }
 },
 "nbformat": 4,
 "nbformat_minor": 4
}
