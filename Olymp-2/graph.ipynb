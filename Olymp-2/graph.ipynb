{
 "cells": [
  {
   "cell_type": "code",
   "execution_count": 158,
   "metadata": {},
   "outputs": [],
   "source": [
    "graph = {\n",
    "    1: [2, 3, 4],\n",
    "    2: [7, ],\n",
    "    3: [7, ],\n",
    "    4: [5],\n",
    "    5: [6],\n",
    "    6: [7],\n",
    "}"
   ]
  },
  {
   "cell_type": "code",
   "execution_count": null,
   "metadata": {},
   "outputs": [],
   "source": []
  },
  {
   "cell_type": "code",
   "execution_count": 159,
   "metadata": {},
   "outputs": [],
   "source": [
    "def search_path(graph, start, end, path=[]):\n",
    "    path += start,\n",
    "    if start == end:\n",
    "        return path\n",
    "    #if start not in graph:\n",
    "    #    return None\n",
    "    for node in graph[start]:\n",
    "        if node not in path:\n",
    "            if node == end:\n",
    "                path += end,\n",
    "                paths.append(path)\n",
    "            else:\n",
    "                newpath = search_path(graph, node, end, path[:])\n",
    "                if newpath:\n",
    "                    paths.append(newpath)\n",
    "    return None"
   ]
  },
  {
   "cell_type": "code",
   "execution_count": 160,
   "metadata": {},
   "outputs": [
    {
     "name": "stdout",
     "output_type": "stream",
     "text": [
      "[[1, 2, 7], [1, 3, 7], [1, 4, 5, 6, 7]]\n"
     ]
    }
   ],
   "source": [
    "paths = []\n",
    "search_path(graph, 1, 7)\n",
    "print(paths)"
   ]
  },
  {
   "cell_type": "code",
   "execution_count": 161,
   "metadata": {},
   "outputs": [
    {
     "name": "stdout",
     "output_type": "stream",
     "text": [
      "1\n",
      "> 8\n",
      "2\n",
      "> 2\n",
      "3\n",
      "> 2\n",
      "4\n",
      "> 4\n",
      "5\n",
      "> 4\n",
      "6\n",
      "> 4\n",
      "7\n",
      "> 8\n"
     ]
    }
   ],
   "source": [
    "for i in range(1, 7 + 1):\n",
    "    print(i)\n",
    "    dist = 0\n",
    "    for path in paths:\n",
    "        if i in path:\n",
    "            dist = dist + len(path) - 1\n",
    "    print('> {}'.format(dist))"
   ]
  },
  {
   "cell_type": "code",
   "execution_count": null,
   "metadata": {},
   "outputs": [],
   "source": []
  }
 ],
 "metadata": {
  "kernelspec": {
   "display_name": "Python 3.8",
   "language": "python",
   "name": "python38"
  },
  "language_info": {
   "codemirror_mode": {
    "name": "ipython",
    "version": 3
   },
   "file_extension": ".py",
   "mimetype": "text/x-python",
   "name": "python",
   "nbconvert_exporter": "python",
   "pygments_lexer": "ipython3",
   "version": "3.8.13"
  }
 },
 "nbformat": 4,
 "nbformat_minor": 4
}
