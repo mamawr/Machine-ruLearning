{
 "cells": [
  {
   "cell_type": "code",
   "execution_count": 5,
   "metadata": {},
   "outputs": [
    {
     "name": "stdin",
     "output_type": "stream",
     "text": [
      " 4 3 5\n"
     ]
    },
    {
     "name": "stdout",
     "output_type": "stream",
     "text": [
      "impossible\n"
     ]
    }
   ],
   "source": [
    "n, k, t = map(int, input().split())\n",
    "\n",
    "print('impossible')"
   ]
  },
  {
   "cell_type": "code",
   "execution_count": 24,
   "metadata": {},
   "outputs": [],
   "source": [
    "n, k, t = 4,3,7"
   ]
  },
  {
   "cell_type": "code",
   "execution_count": 35,
   "metadata": {},
   "outputs": [
    {
     "name": "stdout",
     "output_type": "stream",
     "text": [
      "x:3 o:0 dots:10\n",
      "....\n",
      "....\n",
      "....\n",
      "....\n"
     ]
    }
   ],
   "source": [
    "#print('OK')\n",
    "\n",
    "winx = (t % 2) == 1\n",
    "\n",
    "xcount = t//2+1-k if winx else t//2\n",
    "ocount = t//2 if winx  else t//2-k\n",
    "dots = n*n-xcount-ocount-k\n",
    "\n",
    "#print('{} {}'.format(xcount, ocount))\n",
    "\n",
    "if winx:\n",
    "    str = 'x' * k\n",
    "else:\n",
    "    str = '0' * k\n",
    "    \n",
    "str = ''\n",
    "    \n",
    "print('x:{} o:{} dots:{}'.format(xcount, ocount, dots))\n",
    "    \n",
    "str = str + '.' * (n*n-len(str))\n",
    "for i in range(0, n*n-1, n):\n",
    "    print(str[i:i+n])\n"
   ]
  },
  {
   "cell_type": "code",
   "execution_count": null,
   "metadata": {},
   "outputs": [],
   "source": []
  }
 ],
 "metadata": {
  "kernelspec": {
   "display_name": "Python 3.8",
   "language": "python",
   "name": "python38"
  },
  "language_info": {
   "codemirror_mode": {
    "name": "ipython",
    "version": 3
   },
   "file_extension": ".py",
   "mimetype": "text/x-python",
   "name": "python",
   "nbconvert_exporter": "python",
   "pygments_lexer": "ipython3",
   "version": "3.8.13"
  }
 },
 "nbformat": 4,
 "nbformat_minor": 4
}
