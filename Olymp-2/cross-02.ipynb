{
 "cells": [
  {
   "cell_type": "code",
   "execution_count": 88,
   "metadata": {},
   "outputs": [],
   "source": [
    "n, k, t = 10,4,39"
   ]
  },
  {
   "cell_type": "code",
   "execution_count": 89,
   "metadata": {},
   "outputs": [
    {
     "data": {
      "text/plain": [
       "[['.', '.', '.', '.', '.', '.', '.', '.', '.', '.'],\n",
       " ['.', '.', '.', '.', '.', '.', '.', '.', '.', '.'],\n",
       " ['.', '.', '.', '.', '.', '.', '.', '.', '.', '.'],\n",
       " ['.', '.', '.', '.', '.', '.', '.', '.', '.', '.'],\n",
       " ['.', '.', '.', '.', '.', '.', '.', '.', '.', '.'],\n",
       " ['.', '.', '.', '.', '.', '.', '.', '.', '.', '.'],\n",
       " ['.', '.', '.', '.', '.', '.', '.', '.', '.', '.'],\n",
       " ['.', '.', '.', '.', '.', '.', '.', '.', '.', '.'],\n",
       " ['.', '.', '.', '.', '.', '.', '.', '.', '.', '.'],\n",
       " ['.', '.', '.', '.', '.', '.', '.', '.', '.', '.']]"
      ]
     },
     "execution_count": 89,
     "metadata": {},
     "output_type": "execute_result"
    }
   ],
   "source": [
    "f = [['.' for i in range (0, n)] for j in range(0,n)]\n",
    "#f[0][0] = 'x'\n",
    "f"
   ]
  },
  {
   "cell_type": "code",
   "execution_count": 131,
   "metadata": {},
   "outputs": [],
   "source": [
    "def count_up(x,y, symbol, count=0):\n",
    "    if f[y][x] == symbol:\n",
    "        count += 1\n",
    "        if y>0:\n",
    "            return(count_up(x,y-1, symbol, count))\n",
    "    return(count)\n",
    "\n",
    "def count_down(x,y, symbol, count=0):\n",
    "    if f[y][x] == symbol:\n",
    "        count += 1\n",
    "        if y<n-1:\n",
    "            return(count_down(x,y+1, symbol, count))\n",
    "    return(count)\n",
    "\n",
    "def is_vert_free(x,y, symbol):\n",
    "    count = 0\n",
    "    if y>0:\n",
    "        count += count_up(x, y-1, symbol)\n",
    "    if y<n-1:\n",
    "        count += count_down(x, y+1, symbol)\n",
    "    return (count+1 < k)"
   ]
  },
  {
   "cell_type": "code",
   "execution_count": null,
   "metadata": {},
   "outputs": [],
   "source": []
  },
  {
   "cell_type": "code",
   "execution_count": null,
   "metadata": {},
   "outputs": [],
   "source": []
  },
  {
   "cell_type": "code",
   "execution_count": 132,
   "metadata": {},
   "outputs": [],
   "source": [
    "def count_left(x,y, symbol, count=0):\n",
    "    #print('f[{}][{}] = {}'.format(y,x,f[y][x]))\n",
    "    if f[y][x] == symbol:\n",
    "        count += 1\n",
    "        if x>0:\n",
    "            return(count_left(x-1,y, symbol, count))\n",
    "    return(count)\n",
    "\n",
    "def count_right(x,y, symbol, count=0):\n",
    "    if f[y][x] == symbol:\n",
    "        count += 1\n",
    "        if x<n-1:\n",
    "            return(count_right(x+1,y, symbol, count))\n",
    "    return(count)\n",
    "\n",
    "def is_hor_free(x,y, symbol):\n",
    "    count = 0\n",
    "    if x>0:\n",
    "        count += count_left(x-1, y, symbol)\n",
    "    if x<n-1:\n",
    "        count += count_right(x+1, y, symbol)\n",
    "    return (count+1 < k)"
   ]
  },
  {
   "cell_type": "code",
   "execution_count": null,
   "metadata": {},
   "outputs": [],
   "source": []
  },
  {
   "cell_type": "code",
   "execution_count": 133,
   "metadata": {},
   "outputs": [],
   "source": [
    "def count_up_left(x,y, symbol, count=0):\n",
    "    if f[y][x] == symbol:\n",
    "        count += 1\n",
    "        if x>0 and y>0:\n",
    "            return(count_up_lef(x-1,y-1, symbol, count))\n",
    "    return(count)\n",
    "\n",
    "def count_down_right(x,y, symbol, count=0):\n",
    "    if f[y][x] == symbol:\n",
    "        count += 1\n",
    "        if x<n-1 and y<n-1:\n",
    "            return(count_down_right(x+1,y+1, symbol, count))\n",
    "    return(count)\n",
    "\n",
    "def is_diag1_free(x,y, symbol):\n",
    "    count = 0\n",
    "    if x>0 and y>0:\n",
    "        count += count_up_left(x-1, y-1, symbol)\n",
    "    if x<n-1 and y<n-1:\n",
    "        count += count_down_right(x+1, y+1, symbol)\n",
    "    return (count+1 < k)"
   ]
  },
  {
   "cell_type": "code",
   "execution_count": null,
   "metadata": {},
   "outputs": [],
   "source": []
  },
  {
   "cell_type": "code",
   "execution_count": 134,
   "metadata": {},
   "outputs": [],
   "source": [
    "def count_up_right(x,y, symbol, count=0):\n",
    "    if f[y][x] == symbol:\n",
    "        count += 1\n",
    "        if x<n-1 and y>0:\n",
    "            return(count_up_right(x+1,y-1, symbol, count))\n",
    "    return(count)\n",
    "\n",
    "def count_down_left(x,y, symbol, count=0):\n",
    "    if f[y][x] == symbol:\n",
    "        count += 1\n",
    "        if x>0 and y<n-1:\n",
    "            return(count_down_left(x-1,y+1, symbol, count))\n",
    "    return(count)\n",
    "\n",
    "def is_diag2_free(x,y, symbol):\n",
    "    count = 0\n",
    "    if x<n-1 and y>0:\n",
    "        count += count_up_right(x+1, y-1, symbol)\n",
    "    if x>0 and y<n-1:\n",
    "        count += count_down_left(x-1, y+1, symbol)\n",
    "    return (count+1 < k)"
   ]
  },
  {
   "cell_type": "code",
   "execution_count": 135,
   "metadata": {},
   "outputs": [],
   "source": [
    "def is_free(x,y,symbol):\n",
    "    return is_vert_free(x,y,symbol) and is_hor_free(x,y,symbol) and is_diag1_free(x,y,symbol) and is_diag2_free(x,y,symbol)"
   ]
  },
  {
   "cell_type": "code",
   "execution_count": null,
   "metadata": {},
   "outputs": [],
   "source": []
  },
  {
   "cell_type": "code",
   "execution_count": 95,
   "metadata": {},
   "outputs": [],
   "source": [
    "winx = (t % 2) == 1\n",
    "\n",
    "xcount = t//2+1-k if winx else t//2\n",
    "ocount = t//2 if winx  else t//2-k\n",
    "dots = n*n-xcount-ocount-k"
   ]
  },
  {
   "cell_type": "code",
   "execution_count": 96,
   "metadata": {},
   "outputs": [
    {
     "data": {
      "text/plain": [
       "[['x', 'x', 'x', 'x', '.', '.', '.', '.', '.', '.'],\n",
       " ['.', '.', '.', '.', '.', '.', '.', '.', '.', '.'],\n",
       " ['.', '.', '.', '.', '.', '.', '.', '.', '.', '.'],\n",
       " ['.', '.', '.', '.', '.', '.', '.', '.', '.', '.'],\n",
       " ['.', '.', '.', '.', '.', '.', '.', '.', '.', '.'],\n",
       " ['.', '.', '.', '.', '.', '.', '.', '.', '.', '.'],\n",
       " ['.', '.', '.', '.', '.', '.', '.', '.', '.', '.'],\n",
       " ['.', '.', '.', '.', '.', '.', '.', '.', '.', '.'],\n",
       " ['.', '.', '.', '.', '.', '.', '.', '.', '.', '.'],\n",
       " ['.', '.', '.', '.', '.', '.', '.', '.', '.', '.']]"
      ]
     },
     "execution_count": 96,
     "metadata": {},
     "output_type": "execute_result"
    }
   ],
   "source": [
    "sym = 'x' if winx else '0'\n",
    "for i in range (0,k):\n",
    "    f[0][i] = sym\n",
    "f"
   ]
  },
  {
   "cell_type": "code",
   "execution_count": null,
   "metadata": {},
   "outputs": [],
   "source": []
  },
  {
   "cell_type": "code",
   "execution_count": null,
   "metadata": {},
   "outputs": [],
   "source": []
  },
  {
   "cell_type": "code",
   "execution_count": null,
   "metadata": {},
   "outputs": [],
   "source": []
  },
  {
   "cell_type": "code",
   "execution_count": 97,
   "metadata": {},
   "outputs": [
    {
     "data": {
      "text/plain": [
       "[['x', 'x', 'x', 'x', '0', '0', '0', '0', 'x', '0'],\n",
       " ['x', '0', 'x', '0', 'x', '0', 'x', '0', 'x', '0'],\n",
       " ['x', '0', 'x', '0', 'x', '0', 'x', '0', 'x', '0'],\n",
       " ['0', 'x', '0', 'x', 'x', 'x', '0', 'x', '0', '.'],\n",
       " ['.', '.', '.', '.', '.', '.', '.', '.', '.', '.'],\n",
       " ['.', '.', '.', '.', '.', '.', '.', '.', '.', '.'],\n",
       " ['.', '.', '.', '.', '.', '.', '.', '.', '.', '.'],\n",
       " ['.', '.', '.', '.', '.', '.', '.', '.', '.', '.'],\n",
       " ['.', '.', '.', '.', '.', '.', '.', '.', '.', '.'],\n",
       " ['.', '.', '.', '.', '.', '.', '.', '.', '.', '.']]"
      ]
     },
     "execution_count": 97,
     "metadata": {},
     "output_type": "execute_result"
    }
   ],
   "source": [
    "for y in range (0,n):\n",
    "    for x in range (0,n):\n",
    "        if xcount>ocount:\n",
    "            if f[y][x] == '.' and is_free(x,y,'x') and xcount>0:\n",
    "                f[y][x] = 'x'\n",
    "                xcount -= 1\n",
    "            if f[y][x] == '.' and is_free(x,y,'0') and ocount>0:\n",
    "                f[y][x] = '0'\n",
    "                ocount -= 1\n",
    "        else:\n",
    "            if f[y][x] == '.' and is_free(x,y,'0') and ocount>0:\n",
    "                f[y][x] = '0'\n",
    "                ocount -= 1\n",
    "            if f[y][x] == '.' and is_free(x,y,'x') and xcount>0:\n",
    "                f[y][x] = 'x'\n",
    "                xcount -= 1\n",
    "            \n",
    "f"
   ]
  },
  {
   "cell_type": "code",
   "execution_count": 98,
   "metadata": {},
   "outputs": [
    {
     "data": {
      "text/plain": [
       "True"
      ]
     },
     "execution_count": 98,
     "metadata": {},
     "output_type": "execute_result"
    }
   ],
   "source": [
    "is_vert_free(1,1,'0')"
   ]
  },
  {
   "cell_type": "code",
   "execution_count": 99,
   "metadata": {},
   "outputs": [
    {
     "data": {
      "text/plain": [
       "0"
      ]
     },
     "execution_count": 99,
     "metadata": {},
     "output_type": "execute_result"
    }
   ],
   "source": [
    "count_up(1,0, '0')"
   ]
  },
  {
   "cell_type": "code",
   "execution_count": 100,
   "metadata": {},
   "outputs": [
    {
     "data": {
      "text/plain": [
       "2"
      ]
     },
     "execution_count": 100,
     "metadata": {},
     "output_type": "execute_result"
    }
   ],
   "source": [
    "count_down(1,1, '0')"
   ]
  },
  {
   "cell_type": "code",
   "execution_count": 101,
   "metadata": {},
   "outputs": [
    {
     "data": {
      "text/plain": [
       "'x'"
      ]
     },
     "execution_count": 101,
     "metadata": {},
     "output_type": "execute_result"
    }
   ],
   "source": [
    "f[0][1]"
   ]
  },
  {
   "cell_type": "code",
   "execution_count": null,
   "metadata": {},
   "outputs": [],
   "source": []
  },
  {
   "cell_type": "code",
   "execution_count": null,
   "metadata": {},
   "outputs": [],
   "source": []
  },
  {
   "cell_type": "code",
   "execution_count": null,
   "metadata": {},
   "outputs": [],
   "source": []
  },
  {
   "cell_type": "code",
   "execution_count": 102,
   "metadata": {},
   "outputs": [],
   "source": [
    "winx = (t % 2) == 1\n",
    "sym = 'X' if winx else 'O'\n",
    "\n",
    "xcount = t//2+1-k if winx else t//2\n",
    "ocount = t//2 if winx  else t//2-k"
   ]
  },
  {
   "cell_type": "code",
   "execution_count": 103,
   "metadata": {},
   "outputs": [],
   "source": [
    "def plan(xcount, ocount):\n",
    "\tfor y in range (0,n):\n",
    "\t\tfor x in range (0,n):\n",
    "\t\t\tif xcount>ocount:\n",
    "\t\t\t\tif f[y][x] == '.' and is_free(x,y,'X') and xcount>0:\n",
    "\t\t\t\t\tf[y][x] = 'X'\n",
    "\t\t\t\t\txcount -= 1\n",
    "\t\t\t\tif f[y][x] == '.' and is_free(x,y,'O') and ocount>0:\n",
    "\t\t\t\t\tf[y][x] = 'O'\n",
    "\t\t\t\t\tocount -= 1\n",
    "\t\t\telse:\n",
    "\t\t\t\tif f[y][x] == '.' and is_free(x,y,'O') and ocount>0:\n",
    "\t\t\t\t\tf[y][x] = 'O'\n",
    "\t\t\t\t\tocount -= 1\n",
    "\t\t\t\tif f[y][x] == '.' and is_free(x,y,'X') and xcount>0:\n",
    "\t\t\t\t\tf[y][x] = 'X'\n",
    "\t\t\t\t\txcount -= 1\n",
    "\treturn (xcount, ocount)"
   ]
  },
  {
   "cell_type": "code",
   "execution_count": 113,
   "metadata": {},
   "outputs": [
    {
     "name": "stdout",
     "output_type": "stream",
     "text": [
      "OK\n",
      "XXXXOOOOXO\n",
      "XOXOXOXOXO\n",
      "XOXOXOXOXO\n",
      "OXOXXXOXO.\n",
      "..........\n",
      "..........\n",
      "..........\n",
      "..........\n",
      "..........\n",
      "..........\n",
      "1 1\n"
     ]
    },
    {
     "data": {
      "text/plain": [
       "[['X', 'X', 'X', 'X', 'O', 'O', 'O', 'O', 'X', 'O'],\n",
       " ['X', 'O', 'X', 'O', 'X', 'O', 'X', 'O', 'X', 'O'],\n",
       " ['X', 'O', 'X', 'O', 'X', 'O', 'X', 'O', 'X', 'O'],\n",
       " ['O', 'X', 'O', 'X', 'X', 'X', 'O', 'X', 'O', '.'],\n",
       " ['.', '.', '.', '.', '.', '.', '.', '.', '.', '.'],\n",
       " ['.', '.', '.', '.', '.', '.', '.', '.', '.', '.'],\n",
       " ['.', '.', '.', '.', '.', '.', '.', '.', '.', '.'],\n",
       " ['.', '.', '.', '.', '.', '.', '.', '.', '.', '.'],\n",
       " ['.', '.', '.', '.', '.', '.', '.', '.', '.', '.'],\n",
       " ['.', '.', '.', '.', '.', '.', '.', '.', '.', '.']]"
      ]
     },
     "execution_count": 113,
     "metadata": {},
     "output_type": "execute_result"
    }
   ],
   "source": [
    "succ = False\n",
    "\n",
    "if not succ:\n",
    "\tf = [['.' for i in range (0, n)] for j in range(0,n)]\n",
    "\tfor i in range (0,k):\n",
    "\t\tf[0][i] = sym\n",
    "\txcount = t//2+1-k if winx else t//2\n",
    "\tocount = t//2 if winx  else t//2-k\n",
    "\txc, oc = plan(xcount, ocount)\n",
    "\n",
    "\tif xc==0 and oc==0:\n",
    "\t\tprint('OK')\n",
    "\t\tfor y in range (0,n):\n",
    "\t\t\tfor x in range (0,n):\n",
    "\t\t\t\tprint(f[y][x], end = '')\n",
    "\t\t\tprint()\n",
    "\t\tprint('1 1')\n",
    "\t\tsucc = True\n",
    "\n",
    "f"
   ]
  },
  {
   "cell_type": "code",
   "execution_count": 136,
   "metadata": {},
   "outputs": [
    {
     "data": {
      "text/plain": [
       "[['X', 'X', 'X', 'X', 'O', 'O', 'O', '.', 'X', 'O'],\n",
       " ['X', 'O', 'X', 'O', 'X', 'O', 'X', 'O', 'X', 'O'],\n",
       " ['X', 'O', 'X', 'O', 'X', 'O', 'X', 'O', 'X', 'O'],\n",
       " ['O', 'X', 'O', 'X', 'X', 'X', 'O', 'X', 'O', '.'],\n",
       " ['.', '.', '.', '.', '.', '.', '.', '.', '.', '.'],\n",
       " ['.', '.', '.', '.', '.', '.', '.', '.', '.', '.'],\n",
       " ['.', '.', '.', '.', '.', '.', '.', '.', '.', '.'],\n",
       " ['.', '.', '.', '.', '.', '.', '.', '.', '.', '.'],\n",
       " ['.', '.', '.', '.', '.', '.', '.', '.', '.', '.'],\n",
       " ['.', '.', '.', '.', '.', '.', '.', '.', '.', '.']]"
      ]
     },
     "execution_count": 136,
     "metadata": {},
     "output_type": "execute_result"
    }
   ],
   "source": [
    "f[0][7] = '.'\n",
    "f"
   ]
  },
  {
   "cell_type": "code",
   "execution_count": 137,
   "metadata": {},
   "outputs": [
    {
     "name": "stdout",
     "output_type": "stream",
     "text": [
      "f[0][6] = O\n",
      "f[0][5] = O\n",
      "f[0][4] = O\n",
      "f[0][3] = X\n"
     ]
    },
    {
     "data": {
      "text/plain": [
       "False"
      ]
     },
     "execution_count": 137,
     "metadata": {},
     "output_type": "execute_result"
    }
   ],
   "source": [
    "is_hor_free(7,0,'O')"
   ]
  },
  {
   "cell_type": "code",
   "execution_count": 128,
   "metadata": {},
   "outputs": [
    {
     "name": "stdout",
     "output_type": "stream",
     "text": [
      "f[0][6] = O\n"
     ]
    },
    {
     "data": {
      "text/plain": [
       "2"
      ]
     },
     "execution_count": 128,
     "metadata": {},
     "output_type": "execute_result"
    }
   ],
   "source": [
    "count_left(6,0,'O')"
   ]
  },
  {
   "cell_type": "code",
   "execution_count": 105,
   "metadata": {},
   "outputs": [
    {
     "name": "stdout",
     "output_type": "stream",
     "text": [
      "OK\n",
      "XOOOOXOXOX\n",
      "OXXOXOXOXO\n",
      "XOXXOXOXOX\n",
      "OXOXX.OXOX\n",
      "..........\n",
      "..........\n",
      "..........\n",
      "..........\n",
      "..........\n",
      "..........\n",
      "1 1\n"
     ]
    }
   ],
   "source": [
    "succ = False\n",
    "if not succ:\n",
    "\tf = [['.' for i in range (0, n)] for j in range(0,n)]\n",
    "\tfor i in range (0,k):\n",
    "\t\tf[i][i] = sym\n",
    "\txcount = t//2+1-k if winx else t//2\n",
    "\tocount = t//2 if winx  else t//2-k\n",
    "\txc, oc = plan(xcount, ocount)\n",
    "\n",
    "\tif xc==0 and oc==0:\n",
    "\t\tprint('OK')\n",
    "\t\tfor y in range (0,n):\n",
    "\t\t\tfor x in range (0,n):\n",
    "\t\t\t\tprint(f[y][x], end = '')\n",
    "\t\t\tprint()\n",
    "\t\tprint('1 1')\n",
    "\t\tsucc = True\n",
    "\n",
    "if not succ:\n",
    "    print('impossible')"
   ]
  },
  {
   "cell_type": "code",
   "execution_count": null,
   "metadata": {},
   "outputs": [],
   "source": []
  },
  {
   "cell_type": "code",
   "execution_count": 106,
   "metadata": {},
   "outputs": [
    {
     "data": {
      "text/plain": [
       "[['X', 'O', 'O', 'O', 'O', 'X', 'O', 'X', 'O', 'X'],\n",
       " ['.', 'X', 'X', 'O', 'X', 'O', 'X', 'O', 'X', 'O'],\n",
       " ['X', 'O', 'X', 'X', 'O', 'X', 'O', 'X', 'O', 'X'],\n",
       " ['O', 'X', 'O', 'X', 'X', '.', 'O', 'X', 'O', 'X'],\n",
       " ['.', '.', '.', '.', '.', '.', '.', '.', '.', '.'],\n",
       " ['.', '.', '.', '.', '.', '.', '.', '.', '.', '.'],\n",
       " ['.', '.', '.', '.', '.', '.', '.', '.', '.', '.'],\n",
       " ['.', '.', '.', '.', '.', '.', '.', '.', '.', '.'],\n",
       " ['.', '.', '.', '.', '.', '.', '.', '.', '.', '.'],\n",
       " ['.', '.', '.', '.', '.', '.', '.', '.', '.', '.']]"
      ]
     },
     "execution_count": 106,
     "metadata": {},
     "output_type": "execute_result"
    }
   ],
   "source": [
    "f[1][0] = '.'\n",
    "f"
   ]
  },
  {
   "cell_type": "code",
   "execution_count": 107,
   "metadata": {},
   "outputs": [
    {
     "data": {
      "text/plain": [
       "False"
      ]
     },
     "execution_count": 107,
     "metadata": {},
     "output_type": "execute_result"
    }
   ],
   "source": [
    "is_free(0,1,'X')"
   ]
  },
  {
   "cell_type": "code",
   "execution_count": 108,
   "metadata": {},
   "outputs": [
    {
     "data": {
      "text/plain": [
       "True"
      ]
     },
     "execution_count": 108,
     "metadata": {},
     "output_type": "execute_result"
    }
   ],
   "source": [
    "is_vert_free(0,1,'X')"
   ]
  },
  {
   "cell_type": "code",
   "execution_count": 109,
   "metadata": {},
   "outputs": [
    {
     "data": {
      "text/plain": [
       "False"
      ]
     },
     "execution_count": 109,
     "metadata": {},
     "output_type": "execute_result"
    }
   ],
   "source": [
    "is_hor_free(0,1,'X')"
   ]
  },
  {
   "cell_type": "code",
   "execution_count": 110,
   "metadata": {},
   "outputs": [
    {
     "data": {
      "text/plain": [
       "True"
      ]
     },
     "execution_count": 110,
     "metadata": {},
     "output_type": "execute_result"
    }
   ],
   "source": [
    "is_diag1_free(0,1,'X')"
   ]
  },
  {
   "cell_type": "code",
   "execution_count": null,
   "metadata": {},
   "outputs": [],
   "source": []
  }
 ],
 "metadata": {
  "kernelspec": {
   "display_name": "Python 3.8",
   "language": "python",
   "name": "python38"
  },
  "language_info": {
   "codemirror_mode": {
    "name": "ipython",
    "version": 3
   },
   "file_extension": ".py",
   "mimetype": "text/x-python",
   "name": "python",
   "nbconvert_exporter": "python",
   "pygments_lexer": "ipython3",
   "version": "3.8.13"
  }
 },
 "nbformat": 4,
 "nbformat_minor": 4
}
