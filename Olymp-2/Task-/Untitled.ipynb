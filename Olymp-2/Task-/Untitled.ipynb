{
 "cells": [
  {
   "cell_type": "code",
   "execution_count": null,
   "metadata": {},
   "outputs": [],
   "source": [
    "n, m, k = map(int, input().split())\n",
    "amount = [int(_) for _ in range(1, n + 1)]\n",
    "pos_1, pos_2 = 0, 0\n",
    "flag = True\n",
    "pos_1, pos_2 = 0, 0\n",
    "for _ in range(m):\n",
    "    flag = True\n",
    "    pos_1, pos_2 = map(int, input().split())\n",
    "    amount[pos_1 - 1], amount[pos_2 - 1] = amount[pos_2 - 1], amount[pos_1 - 1]\n",
    "    for i in range(1, n + 1):\n",
    "        if abs((amount.index(i) + 1) - i) > k:\n",
    "            print(1)\n",
    "            flag = False\n",
    "            break\n",
    "    if flag:\n",
    "        print(0)\n"
   ]
  },
  {
   "cell_type": "code",
   "execution_count": null,
   "metadata": {},
   "outputs": [],
   "source": []
  },
  {
   "cell_type": "code",
   "execution_count": 10,
   "metadata": {},
   "outputs": [
    {
     "name": "stdin",
     "output_type": "stream",
     "text": [
      " 8 5 3\n",
      " 4 6\n"
     ]
    },
    {
     "name": "stdout",
     "output_type": "stream",
     "text": [
      "0\n",
      "[1, 2, 3, 6, 5, 4, 7, 8]\n"
     ]
    },
    {
     "name": "stdin",
     "output_type": "stream",
     "text": [
      " 8 2\n"
     ]
    },
    {
     "name": "stdout",
     "output_type": "stream",
     "text": [
      "1\n",
      "[1, 8, 3, 6, 5, 4, 7, 2]\n"
     ]
    },
    {
     "name": "stdin",
     "output_type": "stream",
     "text": [
      " 2 5\n"
     ]
    },
    {
     "name": "stdout",
     "output_type": "stream",
     "text": [
      "1\n",
      "[1, 5, 3, 6, 8, 4, 7, 2]\n"
     ]
    },
    {
     "name": "stdin",
     "output_type": "stream",
     "text": [
      " 5 8\n"
     ]
    },
    {
     "name": "stdout",
     "output_type": "stream",
     "text": [
      "0\n",
      "[1, 5, 3, 6, 2, 4, 7, 8]\n"
     ]
    },
    {
     "name": "stdin",
     "output_type": "stream",
     "text": [
      " 1 2\n"
     ]
    },
    {
     "name": "stdout",
     "output_type": "stream",
     "text": [
      "1\n",
      "[5, 1, 3, 6, 2, 4, 7, 8]\n"
     ]
    }
   ],
   "source": [
    "n, m, k = map(int, input().split())\n",
    "state = [int(_) for _ in range(1, n + 1)]\n",
    "flager = {}\n",
    "for _ in range(m):\n",
    "    pos1, pos2 = map(int, input().split())\n",
    "    flager.pop(pos1, None)\n",
    "    flager.pop(pos2, None)\n",
    "    state[pos1 - 1], state[pos2 - 1] = state[pos2 - 1], state[pos1 - 1]\n",
    "    \n",
    "    if abs(state[pos1 - 1] - pos1) > k:\n",
    "        flager[pos1] = 1\n",
    "\n",
    "    if abs(state[pos2 - 1] - pos2) > k:\n",
    "        flager[pos2] = 1\n",
    "    \n",
    "    print (1 if len(flager) > 0 else 0)\n",
    "    #print(state)\n",
    "    \n"
   ]
  },
  {
   "cell_type": "code",
   "execution_count": null,
   "metadata": {},
   "outputs": [],
   "source": []
  }
 ],
 "metadata": {
  "kernelspec": {
   "display_name": "Python 3.8",
   "language": "python",
   "name": "python38"
  },
  "language_info": {
   "codemirror_mode": {
    "name": "ipython",
    "version": 3
   },
   "file_extension": ".py",
   "mimetype": "text/x-python",
   "name": "python",
   "nbconvert_exporter": "python",
   "pygments_lexer": "ipython3",
   "version": "3.8.13"
  }
 },
 "nbformat": 4,
 "nbformat_minor": 4
}
