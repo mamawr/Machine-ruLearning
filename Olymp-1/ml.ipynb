{
 "cells": [
  {
   "cell_type": "markdown",
   "metadata": {},
   "source": [
    "## Определение тональности отзывов на банки\n",
    "---\n",
    "\n",
    "### Условия\n",
    "Максимальный балл за задачу: 400\n",
    "\n",
    "Вам необходимо создать модель машинного обучения для определения тональности текстов отзывов на банки. Тексты отзывов на русском языке. Тональность отзывов может быть положительной или отрицательной.\n",
    "\n",
    "### Набор данных\n",
    "Данные включают отзывы о работе различных банков, собранные с сайта banki.ru. Для каждого отзыва есть метка тональности:\n",
    "* Positive - Отзыв положительный\n",
    "* Negative - Отзыв отрицательный\n",
    "Формат данных: файл csv, разделитель табуляция.\n",
    "\n",
    "Два столбца:\n",
    "* Label - метка класса, положительный или отрицательный отзыв.\n",
    "* Text - текст отзыва.\n",
    " \n",
    "### Пример данных:\n",
    "\n",
    "Positive:\n",
    "> Обслуживаюсь на Цветном Бульваре. Продукт - кредитная карта. Все ясно и четко. Грамотные работники колл-центра - так держать. Являюсь клиентом уже 3-й год. Очень доволен - молодцы!В прошлом году была просрочка по платежам месяца полтора, истратил весь лимит - была сложная фин. ситуация и смена работы. Никто не парил мозг звонками - позвонили один раз, в ОЧЕНЬ ТАКТИЧНОЙ И ВЕЖЛИВОЙ форме напомнили о просрочке, спросили, когда БУДЕТ ВОЗМОЖНОСТЬ погасить задолженность. Ответил - через 3 недели. Все ОК, ждем. Больше НИ ОДНОГО звонка.Была проблема с оплатой через интернет. Позвонил. Ответили, что данный ресурс заблокирован и операция отменена банком. Попросил разблокировать - все решили в течение 10 минут. Вежливые операционисты. Поймал себя на том, что когда звоню в колл-центр, то звоню к людям, которые помогут решить мою проблему, а не с негативом и желанием ругаться уже заранее, как в некоторые другие банковские заведения.В общем, спасибо за хороший сервис и грамотных специалистов!\n",
    "\n",
    "Negative:\n",
    "> Никаких скрытых комиссий, банк ништяк. Только после оформления кредита выясняется, что зачем-то застраховали тебя, хотя я и не просил, и она не говорила, что будем Вас страховать на 1135 руб. Ещё дали наклейки сказали, что подарок. Наклеишь, мол, на паспорт эту наклейку и в случае утери всё будет окей, или вернём паспорт, или 1000 рублей. Ну вот этот подарок обошёлся мне в 1000 руб. Дальше СМС-информатор 294 руб. Брал PS3 в М-Видео Нижнекамск. Все эти цифры должны быть озвучены до оформления кредита. Администратор: Уточните, пожалуйста, дату оформления кредита. 9v3: Закрыл я уже кредит, а брал 09.10.13.\n",
    "\n",
    "### Метрика\n",
    "\n",
    "В качестве метрики используется Accuracy (доля правильных ответов).\n",
    "> Accuracy = C / N\n",
    "\n",
    ", где\n",
    "* С – количество правильно классифицированных объектов.\n",
    "* N – общее количество объектов.\n",
    "\n",
    "Балл за задачу рассчитывается по формуле:\n",
    "> Points = 400  max(0, (Accuracy  2 - 1))\n",
    "\n",
    ", где\n",
    "* Points – количество баллов.\n",
    "* Accuracy – доля правильных ответов.\n",
    "* max – используется для того, чтобы не допустить отрицательных баллов, если решение дает метрику < 0.5.\n",
    "\n",
    "Таким образом, при значении метрики *Accuracy < 0.5*, за задачу будет начислено 0 баллов. А значения метрики в диапазоне *0.5 ≤  Accuracy < 1.0* пропорционально преобразуются в баллы от 0.0 до 400.0\n",
    "\n",
    "### Данные\n",
    "* [train.csv](train.csv)\n",
    "* [test.csv](test.csv)\n",
    "* [sample_submission.csv](sample_submission.csv)"
   ]
  },
  {
   "cell_type": "markdown",
   "metadata": {},
   "source": [
    "\n",
    "## Решение\n",
    "---"
   ]
  },
  {
   "cell_type": "markdown",
   "metadata": {},
   "source": [
    "Подключаем необходимые библиотеки"
   ]
  },
  {
   "cell_type": "code",
   "execution_count": 1,
   "metadata": {},
   "outputs": [],
   "source": [
    "import pandas\n",
    "import re\n",
    "from tensorflow import keras\n",
    "import sklearn.model_selection\n",
    "import matplotlib.pyplot as plt\n",
    "import numpy\n",
    "import seaborn"
   ]
  },
  {
   "cell_type": "markdown",
   "metadata": {},
   "source": [
    "Определяем GPU доступные для использования"
   ]
  },
  {
   "cell_type": "code",
   "execution_count": 2,
   "metadata": {},
   "outputs": [],
   "source": [
    "import os\n",
    "os.environ[\"CUDA_DEVICE_ORDER\"] = \"PCI_BUS_ID\" \n",
    "os.environ[\"CUDA_VISIBLE_DEVICES\"] = \"0\""
   ]
  },
  {
   "cell_type": "markdown",
   "metadata": {},
   "source": [
    "---\n",
    "Читаем данные для обучения в [Pandas Dataframe](https://www.w3schools.com/python/pandas/pandas_dataframes.asp)"
   ]
  },
  {
   "cell_type": "code",
   "execution_count": 3,
   "metadata": {},
   "outputs": [
    {
     "data": {
      "text/html": [
       "<div>\n",
       "<style scoped>\n",
       "    .dataframe tbody tr th:only-of-type {\n",
       "        vertical-align: middle;\n",
       "    }\n",
       "\n",
       "    .dataframe tbody tr th {\n",
       "        vertical-align: top;\n",
       "    }\n",
       "\n",
       "    .dataframe thead th {\n",
       "        text-align: right;\n",
       "    }\n",
       "</style>\n",
       "<table border=\"1\" class=\"dataframe\">\n",
       "  <thead>\n",
       "    <tr style=\"text-align: right;\">\n",
       "      <th></th>\n",
       "      <th>Score</th>\n",
       "      <th>Text</th>\n",
       "    </tr>\n",
       "    <tr>\n",
       "      <th>idx</th>\n",
       "      <th></th>\n",
       "      <th></th>\n",
       "    </tr>\n",
       "  </thead>\n",
       "  <tbody>\n",
       "    <tr>\n",
       "      <th>0</th>\n",
       "      <td>Positive</td>\n",
       "      <td>В Альфа-Банке работает замечательная девушка -...</td>\n",
       "    </tr>\n",
       "    <tr>\n",
       "      <th>1</th>\n",
       "      <td>Negative</td>\n",
       "      <td>Оформляя рассрочку в м. Видео в меге тёплый ст...</td>\n",
       "    </tr>\n",
       "    <tr>\n",
       "      <th>2</th>\n",
       "      <td>Positive</td>\n",
       "      <td>Очень порадовала оперативность работы в банке....</td>\n",
       "    </tr>\n",
       "    <tr>\n",
       "      <th>3</th>\n",
       "      <td>Negative</td>\n",
       "      <td>Имела неосторожность оформить потреб. кредит в...</td>\n",
       "    </tr>\n",
       "    <tr>\n",
       "      <th>4</th>\n",
       "      <td>Negative</td>\n",
       "      <td>Небольшая предыстория: Нашел на сайте MDM банк...</td>\n",
       "    </tr>\n",
       "    <tr>\n",
       "      <th>...</th>\n",
       "      <td>...</td>\n",
       "      <td>...</td>\n",
       "    </tr>\n",
       "    <tr>\n",
       "      <th>13994</th>\n",
       "      <td>Positive</td>\n",
       "      <td>О высокой надёжности МКБ, порядочности и добро...</td>\n",
       "    </tr>\n",
       "    <tr>\n",
       "      <th>13995</th>\n",
       "      <td>Positive</td>\n",
       "      <td>Обслуживаюсь в офисе на Чернореченской 42а, ка...</td>\n",
       "    </tr>\n",
       "    <tr>\n",
       "      <th>13996</th>\n",
       "      <td>Positive</td>\n",
       "      <td>Попала сегодня в очень неприятную ситуацию. Ре...</td>\n",
       "    </tr>\n",
       "    <tr>\n",
       "      <th>13997</th>\n",
       "      <td>Positive</td>\n",
       "      <td>Добрый день! Давно являюсь клиентом банка Русс...</td>\n",
       "    </tr>\n",
       "    <tr>\n",
       "      <th>13998</th>\n",
       "      <td>Negative</td>\n",
       "      <td>Сначала было все банально. Взял в кредит mp3 п...</td>\n",
       "    </tr>\n",
       "  </tbody>\n",
       "</table>\n",
       "<p>13999 rows × 2 columns</p>\n",
       "</div>"
      ],
      "text/plain": [
       "          Score                                               Text\n",
       "idx                                                               \n",
       "0      Positive  В Альфа-Банке работает замечательная девушка -...\n",
       "1      Negative  Оформляя рассрочку в м. Видео в меге тёплый ст...\n",
       "2      Positive  Очень порадовала оперативность работы в банке....\n",
       "3      Negative  Имела неосторожность оформить потреб. кредит в...\n",
       "4      Negative  Небольшая предыстория: Нашел на сайте MDM банк...\n",
       "...         ...                                                ...\n",
       "13994  Positive  О высокой надёжности МКБ, порядочности и добро...\n",
       "13995  Positive  Обслуживаюсь в офисе на Чернореченской 42а, ка...\n",
       "13996  Positive  Попала сегодня в очень неприятную ситуацию. Ре...\n",
       "13997  Positive  Добрый день! Давно являюсь клиентом банка Русс...\n",
       "13998  Negative  Сначала было все банально. Взял в кредит mp3 п...\n",
       "\n",
       "[13999 rows x 2 columns]"
      ]
     },
     "execution_count": 3,
     "metadata": {},
     "output_type": "execute_result"
    }
   ],
   "source": [
    "train_data = pandas.read_csv('train.csv', sep='\\t', index_col='idx')\n",
    "train_data"
   ]
  },
  {
   "cell_type": "markdown",
   "metadata": {},
   "source": [
    "---\n",
    "Предварительная обработка отзывов:\n",
    "* Приведение к нижнему регистру\n",
    "* Замена «ё» на «е»\n",
    "* Замена ссылок на токен «URL»\n",
    "* Замена e-mail адресов на токен «URL»\n",
    "* Удаление знаков пунктуации"
   ]
  },
  {
   "cell_type": "code",
   "execution_count": 4,
   "metadata": {},
   "outputs": [
    {
     "data": {
      "text/html": [
       "<div>\n",
       "<style scoped>\n",
       "    .dataframe tbody tr th:only-of-type {\n",
       "        vertical-align: middle;\n",
       "    }\n",
       "\n",
       "    .dataframe tbody tr th {\n",
       "        vertical-align: top;\n",
       "    }\n",
       "\n",
       "    .dataframe thead th {\n",
       "        text-align: right;\n",
       "    }\n",
       "</style>\n",
       "<table border=\"1\" class=\"dataframe\">\n",
       "  <thead>\n",
       "    <tr style=\"text-align: right;\">\n",
       "      <th></th>\n",
       "      <th>Score</th>\n",
       "      <th>Text</th>\n",
       "      <th>review</th>\n",
       "    </tr>\n",
       "    <tr>\n",
       "      <th>idx</th>\n",
       "      <th></th>\n",
       "      <th></th>\n",
       "      <th></th>\n",
       "    </tr>\n",
       "  </thead>\n",
       "  <tbody>\n",
       "    <tr>\n",
       "      <th>0</th>\n",
       "      <td>Positive</td>\n",
       "      <td>В Альфа-Банке работает замечательная девушка -...</td>\n",
       "      <td>в альфа банке работает замечательная девушка и...</td>\n",
       "    </tr>\n",
       "    <tr>\n",
       "      <th>1</th>\n",
       "      <td>Negative</td>\n",
       "      <td>Оформляя рассрочку в м. Видео в меге тёплый ст...</td>\n",
       "      <td>оформляя рассрочку в м видео в меге теплый ста...</td>\n",
       "    </tr>\n",
       "    <tr>\n",
       "      <th>2</th>\n",
       "      <td>Positive</td>\n",
       "      <td>Очень порадовала оперативность работы в банке....</td>\n",
       "      <td>очень порадовала оперативность работы в банке ...</td>\n",
       "    </tr>\n",
       "    <tr>\n",
       "      <th>3</th>\n",
       "      <td>Negative</td>\n",
       "      <td>Имела неосторожность оформить потреб. кредит в...</td>\n",
       "      <td>имела неосторожность оформить потреб кредит в ...</td>\n",
       "    </tr>\n",
       "    <tr>\n",
       "      <th>4</th>\n",
       "      <td>Negative</td>\n",
       "      <td>Небольшая предыстория: Нашел на сайте MDM банк...</td>\n",
       "      <td>небольшая предыстория нашел на сайте mdm банка...</td>\n",
       "    </tr>\n",
       "    <tr>\n",
       "      <th>...</th>\n",
       "      <td>...</td>\n",
       "      <td>...</td>\n",
       "      <td>...</td>\n",
       "    </tr>\n",
       "    <tr>\n",
       "      <th>13994</th>\n",
       "      <td>Positive</td>\n",
       "      <td>О высокой надёжности МКБ, порядочности и добро...</td>\n",
       "      <td>о высокой надежности мкб порядочности и доброс...</td>\n",
       "    </tr>\n",
       "    <tr>\n",
       "      <th>13995</th>\n",
       "      <td>Positive</td>\n",
       "      <td>Обслуживаюсь в офисе на Чернореченской 42а, ка...</td>\n",
       "      <td>обслуживаюсь в офисе на чернореченской 42а как...</td>\n",
       "    </tr>\n",
       "    <tr>\n",
       "      <th>13996</th>\n",
       "      <td>Positive</td>\n",
       "      <td>Попала сегодня в очень неприятную ситуацию. Ре...</td>\n",
       "      <td>попала сегодня в очень неприятную ситуацию реш...</td>\n",
       "    </tr>\n",
       "    <tr>\n",
       "      <th>13997</th>\n",
       "      <td>Positive</td>\n",
       "      <td>Добрый день! Давно являюсь клиентом банка Русс...</td>\n",
       "      <td>добрый день давно являюсь клиентом банка русск...</td>\n",
       "    </tr>\n",
       "    <tr>\n",
       "      <th>13998</th>\n",
       "      <td>Negative</td>\n",
       "      <td>Сначала было все банально. Взял в кредит mp3 п...</td>\n",
       "      <td>сначала было все банально взял в кредит mp3 пл...</td>\n",
       "    </tr>\n",
       "  </tbody>\n",
       "</table>\n",
       "<p>13999 rows × 3 columns</p>\n",
       "</div>"
      ],
      "text/plain": [
       "          Score                                               Text  \\\n",
       "idx                                                                  \n",
       "0      Positive  В Альфа-Банке работает замечательная девушка -...   \n",
       "1      Negative  Оформляя рассрочку в м. Видео в меге тёплый ст...   \n",
       "2      Positive  Очень порадовала оперативность работы в банке....   \n",
       "3      Negative  Имела неосторожность оформить потреб. кредит в...   \n",
       "4      Negative  Небольшая предыстория: Нашел на сайте MDM банк...   \n",
       "...         ...                                                ...   \n",
       "13994  Positive  О высокой надёжности МКБ, порядочности и добро...   \n",
       "13995  Positive  Обслуживаюсь в офисе на Чернореченской 42а, ка...   \n",
       "13996  Positive  Попала сегодня в очень неприятную ситуацию. Ре...   \n",
       "13997  Positive  Добрый день! Давно являюсь клиентом банка Русс...   \n",
       "13998  Negative  Сначала было все банально. Взял в кредит mp3 п...   \n",
       "\n",
       "                                                  review  \n",
       "idx                                                       \n",
       "0      в альфа банке работает замечательная девушка и...  \n",
       "1      оформляя рассрочку в м видео в меге теплый ста...  \n",
       "2      очень порадовала оперативность работы в банке ...  \n",
       "3      имела неосторожность оформить потреб кредит в ...  \n",
       "4      небольшая предыстория нашел на сайте mdm банка...  \n",
       "...                                                  ...  \n",
       "13994  о высокой надежности мкб порядочности и доброс...  \n",
       "13995  обслуживаюсь в офисе на чернореченской 42а как...  \n",
       "13996  попала сегодня в очень неприятную ситуацию реш...  \n",
       "13997  добрый день давно являюсь клиентом банка русск...  \n",
       "13998  сначала было все банально взял в кредит mp3 пл...  \n",
       "\n",
       "[13999 rows x 3 columns]"
      ]
     },
     "execution_count": 4,
     "metadata": {},
     "output_type": "execute_result"
    }
   ],
   "source": [
    "def preprocess_text(text):\n",
    "    text = text.lower().replace(\"ё\", \"е\")\n",
    "    text = re.sub('((www\\.[^\\s]+)|(https?://[^\\s]+))', 'URL', text)\n",
    "    text = re.sub('([A-Za-z0-9._%+-]+@[A-Za-z0-9.-]+\\.[A-Za-z]{2,})', 'EMAIL', text)\n",
    "    text = re.sub('[^a-zA-Zа-яА-Я1-9]+', ' ', text)\n",
    "    text = re.sub(' +', ' ', text)\n",
    "    return text.strip()\n",
    "\n",
    "train_data['review'] = train_data['Text'].apply(lambda x: preprocess_text(x))\n",
    "train_data"
   ]
  },
  {
   "cell_type": "markdown",
   "metadata": {},
   "source": [
    "---\n",
    "Cоздаем и обучаем токенизатор на основе текстов отзывов"
   ]
  },
  {
   "cell_type": "code",
   "execution_count": 5,
   "metadata": {},
   "outputs": [
    {
     "name": "stdout",
     "output_type": "stream",
     "text": [
      "В отзывах найдено и токенизировано 102387 уникальных слов\n"
     ]
    }
   ],
   "source": [
    "MAX_DICTIONARY_SIZE = 500000                                                # Размер словаря\n",
    "MAX_SEQUENCE_LENGTH = max(train_data['review'].str.split().str.len())       # Максимальное количество слов в отзыве\n",
    "\n",
    "tokenizer = keras.preprocessing.text.Tokenizer(num_words=MAX_DICTIONARY_SIZE, filters='!\"#$%&()*+,-./:;<=>@[\\]^_`{|}~', lower=True)\n",
    "tokenizer.fit_on_texts(train_data['review'].values)\n",
    "\n",
    "VOCABULARY_SIZE = len(tokenizer.word_index)\n",
    "print('В отзывах найдено и токенизировано {} уникальных слов'.format(VOCABULARY_SIZE))"
   ]
  },
  {
   "cell_type": "markdown",
   "metadata": {},
   "source": [
    "---\n",
    "Отображаем текст каждого отзыва в массив идентификаторов токенов и дополняем до единой размерности. Собираем подготовленные данные в переменную X"
   ]
  },
  {
   "cell_type": "code",
   "execution_count": 6,
   "metadata": {},
   "outputs": [
    {
     "name": "stdout",
     "output_type": "stream",
     "text": [
      "Размерность X: (13999, 4035)\n",
      "X: [[    0     0     0 ...    41    22   427]\n",
      " [    0     0     0 ...   807   186  4629]\n",
      " [    0     0     0 ...   469   513 19123]\n",
      " ...\n",
      " [    0     0     0 ...    60   164   121]\n",
      " [    0     0     0 ...     2  3100   866]\n",
      " [    0     0     0 ... 36254    64    25]]\n"
     ]
    }
   ],
   "source": [
    "X = tokenizer.texts_to_sequences(train_data['review'].values)\n",
    "X = keras.preprocessing.sequence.pad_sequences(X, maxlen=MAX_SEQUENCE_LENGTH)\n",
    "print('Размерность X: {}'.format(X.shape))\n",
    "print('X: {}'.format(X))"
   ]
  },
  {
   "cell_type": "markdown",
   "metadata": {},
   "source": [
    "---\n",
    "Делаем OneHotEncoding для меток отзывов. Собираем данные в переменную Y"
   ]
  },
  {
   "cell_type": "code",
   "execution_count": 7,
   "metadata": {},
   "outputs": [
    {
     "name": "stdout",
     "output_type": "stream",
     "text": [
      "Классы меток: ['Negative', 'Positive']\n",
      "Размерность Y: (13999, 2)\n",
      "Y: [[0 1]\n",
      " [1 0]\n",
      " [0 1]\n",
      " ...\n",
      " [0 1]\n",
      " [0 1]\n",
      " [1 0]]\n"
     ]
    }
   ],
   "source": [
    "classes = pandas.get_dummies(train_data['Score'])\n",
    "class_names = list(classes.columns)\n",
    "Y = classes.values\n",
    "print('Классы меток: {}'.format(class_names))\n",
    "print('Размерность Y: {}'.format(Y.shape))\n",
    "print('Y: {}'.format(Y))"
   ]
  },
  {
   "cell_type": "markdown",
   "metadata": {},
   "source": [
    "---\n",
    "Разбиваем набор данных на обучающую и проверочную выборку в пропорции 9:1"
   ]
  },
  {
   "cell_type": "code",
   "execution_count": 8,
   "metadata": {},
   "outputs": [
    {
     "name": "stdout",
     "output_type": "stream",
     "text": [
      "Размерность x_train и y_train: (12599, 4035) (12599, 2)\n",
      "Размерность x_val и y_val: (1400, 4035) (1400, 2)\n"
     ]
    }
   ],
   "source": [
    "x_train, x_val, y_train, y_val = sklearn.model_selection.train_test_split(X, Y, test_size=0.1, shuffle=True, random_state=2)\n",
    "\n",
    "print('Размерность x_train и y_train: {} {}'.format(x_train.shape, y_train.shape))\n",
    "print('Размерность x_val и y_val: {} {}'.format(x_val.shape, y_val.shape))"
   ]
  },
  {
   "cell_type": "markdown",
   "metadata": {},
   "source": [
    "---\n",
    "Защищаемся от переобучения, определяя функцию ранеего останова по параметру val_loss"
   ]
  },
  {
   "cell_type": "code",
   "execution_count": 9,
   "metadata": {},
   "outputs": [],
   "source": [
    "earlyStop = keras.callbacks.EarlyStopping(\n",
    "    monitor='val_loss',\n",
    "    min_delta=0,\n",
    "    patience=2,\n",
    "    verbose=0,\n",
    "    mode='auto',\n",
    ")"
   ]
  },
  {
   "cell_type": "markdown",
   "metadata": {},
   "source": [
    "---\n",
    "Строим  и компилируем модель"
   ]
  },
  {
   "cell_type": "code",
   "execution_count": 10,
   "metadata": {},
   "outputs": [
    {
     "name": "stderr",
     "output_type": "stream",
     "text": [
      "2022-10-03 13:03:35.556080: I tensorflow/core/platform/cpu_feature_guard.cc:151] This TensorFlow binary is optimized with oneAPI Deep Neural Network Library (oneDNN) to use the following CPU instructions in performance-critical operations:  SSE4.1 SSE4.2 AVX AVX2 FMA\n",
      "To enable them in other operations, rebuild TensorFlow with the appropriate compiler flags.\n",
      "2022-10-03 13:03:36.503964: I tensorflow/core/common_runtime/gpu/gpu_device.cc:1525] Created device /job:localhost/replica:0/task:0/device:GPU:0 with 10396 MB memory:  -> device: 0, name: GeForce GTX 1080 Ti, pci bus id: 0000:01:00.0, compute capability: 6.1\n"
     ]
    },
    {
     "name": "stdout",
     "output_type": "stream",
     "text": [
      "Model: \"sequential\"\n",
      "_________________________________________________________________\n",
      " Layer (type)                Output Shape              Param #   \n",
      "=================================================================\n",
      " Embedding (Embedding)       (None, 4035, 128)         13105536  \n",
      "                                                                 \n",
      " LSTM (LSTM)                 (None, 100)               91600     \n",
      "                                                                 \n",
      " Dense_SoftMax (Dense)       (None, 2)                 202       \n",
      "                                                                 \n",
      "=================================================================\n",
      "Total params: 13,197,338\n",
      "Trainable params: 13,197,338\n",
      "Non-trainable params: 0\n",
      "_________________________________________________________________\n",
      "None\n"
     ]
    }
   ],
   "source": [
    "EMBEDDING_DIM = 128\n",
    "\n",
    "model = keras.Sequential()\n",
    "\n",
    "model.add(keras.layers.Embedding(VOCABULARY_SIZE, EMBEDDING_DIM, input_length=X.shape[1], name='Embedding'))\n",
    "model.add(keras.layers.LSTM(100, dropout=0.0, recurrent_dropout=0, name='LSTM'))\n",
    "model.add(keras.layers.Dense(Y.shape[1], activation='softmax', name='Dense_SoftMax'))\n",
    "\n",
    "model.compile(optimizer = keras.optimizers.Adam(), loss = 'categorical_crossentropy', metrics = ['accuracy'])  # binary_crossentropy\n",
    "#model.compile(optimizer = keras.optimizers.Adam(), loss = 'binary_crossentropy', metrics = ['accuracy'])  # binary_crossentropy\n",
    "\n",
    "loss = [None]\n",
    "val_loss = [None]\n",
    "accuracy = [None]\n",
    "val_accuracy = [None]\n",
    "runs = []\n",
    "\n",
    "print(model.summary())\n",
    "#keras.utils.plot_model(model, show_shapes=True, show_layer_names=True, expand_nested=False, show_layer_activations=True)"
   ]
  },
  {
   "cell_type": "markdown",
   "metadata": {},
   "source": [
    "---\n",
    "Обучаем модель и стороим графики"
   ]
  },
  {
   "cell_type": "code",
   "execution_count": 11,
   "metadata": {},
   "outputs": [
    {
     "name": "stderr",
     "output_type": "stream",
     "text": [
      "2022-10-03 13:03:37.650064: W tensorflow/core/framework/cpu_allocator_impl.cc:82] Allocation of 203347860 exceeds 10% of free system memory.\n"
     ]
    },
    {
     "name": "stdout",
     "output_type": "stream",
     "text": [
      "Epoch 1/10\n"
     ]
    },
    {
     "name": "stderr",
     "output_type": "stream",
     "text": [
      "2022-10-03 13:03:41.407099: I tensorflow/stream_executor/cuda/cuda_dnn.cc:368] Loaded cuDNN version 8500\n",
      "Could not load symbol cublasGetSmCountTarget from libcublas.so.11. Error: /usr/local/cuda/targets/x86_64-linux/lib/libcublas.so.11: undefined symbol: cublasGetSmCountTarget\n"
     ]
    },
    {
     "name": "stdout",
     "output_type": "stream",
     "text": [
      "50/50 [==============================] - 25s 418ms/step - loss: 0.5918 - accuracy: 0.7113 - val_loss: 0.4292 - val_accuracy: 0.8286\n",
      "Epoch 2/10\n",
      "50/50 [==============================] - 20s 409ms/step - loss: 0.1889 - accuracy: 0.9342 - val_loss: 0.2186 - val_accuracy: 0.9214\n",
      "Epoch 3/10\n",
      "50/50 [==============================] - 21s 411ms/step - loss: 0.0529 - accuracy: 0.9855 - val_loss: 0.1811 - val_accuracy: 0.9350\n",
      "Epoch 4/10\n",
      "50/50 [==============================] - 21s 415ms/step - loss: 0.0166 - accuracy: 0.9962 - val_loss: 0.1820 - val_accuracy: 0.9414\n",
      "Epoch 5/10\n",
      "50/50 [==============================] - 21s 413ms/step - loss: 0.0042 - accuracy: 0.9993 - val_loss: 0.1952 - val_accuracy: 0.9429\n"
     ]
    },
    {
     "data": {
      "text/plain": [
       "<matplotlib.legend.Legend at 0x7fd90516da30>"
      ]
     },
     "execution_count": 11,
     "metadata": {},
     "output_type": "execute_result"
    },
    {
     "data": {
      "image/png": "[encoded data removed]",
      "text/plain": [
       "<Figure size 1152x360 with 2 Axes>"
      ]
     },
     "metadata": {
      "needs_background": "light"
     },
     "output_type": "display_data"
    }
   ],
   "source": [
    "BATCH_SIZE = 256\n",
    "EPOCHS = 10\n",
    "\n",
    "history = model.fit(\n",
    "    x = x_train,\n",
    "    y = y_train,\n",
    "    validation_data = (x_val, y_val),\n",
    "    batch_size = BATCH_SIZE,\n",
    "    epochs = EPOCHS,\n",
    "    shuffle = True,\n",
    "    callbacks = [earlyStop],\n",
    ")\n",
    "\n",
    "loss += history.history['loss']\n",
    "val_loss += history.history['val_loss']\n",
    "accuracy += history.history['accuracy']\n",
    "val_accuracy += history.history['val_accuracy']\n",
    "runs += [max(runs, default=0) + len(history.history['loss'])]\n",
    "\n",
    "fig = plt.figure(figsize=(16, 5))\n",
    "\n",
    "ax = fig.add_subplot(121)\n",
    "ax.plot(loss)\n",
    "ax.plot(val_loss)\n",
    "ax.vlines(runs[:-1], plt.ylim()[0], plt.ylim()[1], label='Restart fit', color='green', linestyle = '--', linewidth=0.75)\n",
    "ax.set_title('model loss')\n",
    "ax.set_ylabel('loss')\n",
    "ax.set_xlabel('Эпохи')\n",
    "ax.legend(['train', 'val', 'runs'], loc='upper left')\n",
    "\n",
    "ax = fig.add_subplot(122)\n",
    "ax.plot(accuracy)\n",
    "ax.plot(val_accuracy)\n",
    "ax.vlines(runs[:-1], plt.ylim()[0], plt.ylim()[1], label='Restart fit', color='green', linestyle = '--', linewidth=0.75)\n",
    "ax.set_title('model accuracy')\n",
    "ax.set_ylabel('Точность')\n",
    "ax.set_xlabel('Эпохи')\n",
    "ax.legend(['train', 'val', 'runs'], loc='upper left')"
   ]
  },
  {
   "cell_type": "markdown",
   "metadata": {},
   "source": [
    "---\n",
    "Построение матрицы ошибок (Confusion Matrix)"
   ]
  },
  {
   "cell_type": "code",
   "execution_count": 12,
   "metadata": {},
   "outputs": [
    {
     "data": {
      "image/png": "[encoded data removed]",
      "text/plain": [
       "<Figure size 576x432 with 2 Axes>"
      ]
     },
     "metadata": {
      "needs_background": "light"
     },
     "output_type": "display_data"
    }
   ],
   "source": [
    "y_pred = model.predict(x_val)\n",
    "\n",
    "cm = sklearn.metrics.confusion_matrix(\n",
    "    y_true = [class_names[numpy.argmax(i)] for i in y_val],\n",
    "    y_pred = [class_names[numpy.argmax(i)] for i in y_pred],\n",
    "    labels = class_names,\n",
    ")\n",
    "\n",
    "cmn = cm.astype('float') / cm.sum(axis=1)[:, numpy.newaxis]\n",
    "\n",
    "plt.figure(figsize=(8,6))\n",
    "ax = seaborn.heatmap(cmn, annot=True, fmt='.2%', xticklabels=class_names, yticklabels=class_names, cmap='Blues', square=True, linewidths=0.5, linecolor='gray')\n",
    "ax.set_title('Матрица ошибок на проверочных данных');\n",
    "ax.set_xlabel('Прогноз модели')\n",
    "ax.set_ylabel('Реальность');\n",
    "plt.show()"
   ]
  },
  {
   "cell_type": "markdown",
   "metadata": {},
   "source": [
    "## Тестовые данные"
   ]
  },
  {
   "cell_type": "markdown",
   "metadata": {},
   "source": [
    "---\n",
    "Загружаем тестовые данные и делаем их предварительную обработку с использованием ранее опредленной функции preprocess_text()"
   ]
  },
  {
   "cell_type": "code",
   "execution_count": 13,
   "metadata": {},
   "outputs": [],
   "source": [
    "test_data = pandas.read_csv('test.csv', sep='\\t', index_col='idx')\n",
    "test_data['review'] = test_data['Text'].apply(lambda x: preprocess_text(x))"
   ]
  },
  {
   "cell_type": "markdown",
   "metadata": {},
   "source": [
    "---\n",
    "Отображаем текст каждого отзыва в массив идентификаторов токенов ранее созданного токенайзера. Собираем подготовленные данные в переменную x_test"
   ]
  },
  {
   "cell_type": "code",
   "execution_count": 14,
   "metadata": {},
   "outputs": [],
   "source": [
    "x_test = tokenizer.texts_to_sequences(test_data['review'].values)\n",
    "x_test = keras.preprocessing.sequence.pad_sequences(x_test, maxlen=MAX_SEQUENCE_LENGTH)"
   ]
  },
  {
   "cell_type": "markdown",
   "metadata": {},
   "source": [
    "---\n",
    "Предсказываем по тестовым данным"
   ]
  },
  {
   "cell_type": "code",
   "execution_count": 15,
   "metadata": {},
   "outputs": [],
   "source": [
    "y_test = model.predict(x_test)"
   ]
  },
  {
   "cell_type": "markdown",
   "metadata": {},
   "source": [
    "---\n",
    "Добавляем в тестовые данные столбец с предсказаниями модели"
   ]
  },
  {
   "cell_type": "code",
   "execution_count": 16,
   "metadata": {},
   "outputs": [
    {
     "data": {
      "text/html": [
       "<div>\n",
       "<style scoped>\n",
       "    .dataframe tbody tr th:only-of-type {\n",
       "        vertical-align: middle;\n",
       "    }\n",
       "\n",
       "    .dataframe tbody tr th {\n",
       "        vertical-align: top;\n",
       "    }\n",
       "\n",
       "    .dataframe thead th {\n",
       "        text-align: right;\n",
       "    }\n",
       "</style>\n",
       "<table border=\"1\" class=\"dataframe\">\n",
       "  <thead>\n",
       "    <tr style=\"text-align: right;\">\n",
       "      <th></th>\n",
       "      <th>Text</th>\n",
       "      <th>review</th>\n",
       "      <th>Score</th>\n",
       "    </tr>\n",
       "    <tr>\n",
       "      <th>idx</th>\n",
       "      <th></th>\n",
       "      <th></th>\n",
       "      <th></th>\n",
       "    </tr>\n",
       "  </thead>\n",
       "  <tbody>\n",
       "    <tr>\n",
       "      <th>13999</th>\n",
       "      <td>Замечательная история об открытии счета в банк...</td>\n",
       "      <td>замечательная история об открытии счета в банк...</td>\n",
       "      <td>Negative</td>\n",
       "    </tr>\n",
       "    <tr>\n",
       "      <th>14000</th>\n",
       "      <td>23.07.14г. я досрочно внес сумму, указанную оп...</td>\n",
       "      <td>23 7 14г я досрочно внес сумму указанную опера...</td>\n",
       "      <td>Negative</td>\n",
       "    </tr>\n",
       "    <tr>\n",
       "      <th>14001</th>\n",
       "      <td>Была задолженность по кредитной карте. Банк по...</td>\n",
       "      <td>была задолженность по кредитной карте банк под...</td>\n",
       "      <td>Negative</td>\n",
       "    </tr>\n",
       "    <tr>\n",
       "      <th>14002</th>\n",
       "      <td>Срочно понадобилась определенная денежная сумм...</td>\n",
       "      <td>срочно понадобилась определенная денежная сумм...</td>\n",
       "      <td>Negative</td>\n",
       "    </tr>\n",
       "    <tr>\n",
       "      <th>14003</th>\n",
       "      <td>Здравствуйте. В местном отделении Бинбанка г. ...</td>\n",
       "      <td>здравствуйте в местном отделении бинбанка г ку...</td>\n",
       "      <td>Negative</td>\n",
       "    </tr>\n",
       "    <tr>\n",
       "      <th>...</th>\n",
       "      <td>...</td>\n",
       "      <td>...</td>\n",
       "      <td>...</td>\n",
       "    </tr>\n",
       "    <tr>\n",
       "      <th>19994</th>\n",
       "      <td>Уважаемые представители Русфинанс Банка! Прошу...</td>\n",
       "      <td>уважаемые представители русфинанс банка прошу ...</td>\n",
       "      <td>Positive</td>\n",
       "    </tr>\n",
       "    <tr>\n",
       "      <th>19995</th>\n",
       "      <td>04 июня сняли с дебетовой карты банка 10 000 T...</td>\n",
       "      <td>4 июня сняли с дебетовой карты банка 1 twd 12 ...</td>\n",
       "      <td>Positive</td>\n",
       "    </tr>\n",
       "    <tr>\n",
       "      <th>19996</th>\n",
       "      <td>В апреле решил я купить шуруповерт. Посмотрел ...</td>\n",
       "      <td>в апреле решил я купить шуруповерт посмотрел ц...</td>\n",
       "      <td>Negative</td>\n",
       "    </tr>\n",
       "    <tr>\n",
       "      <th>19997</th>\n",
       "      <td>Недавно взял потребкредит в этом банке. Все че...</td>\n",
       "      <td>недавно взял потребкредит в этом банке все чес...</td>\n",
       "      <td>Positive</td>\n",
       "    </tr>\n",
       "    <tr>\n",
       "      <th>19998</th>\n",
       "      <td>Продолжение отзыва АльфаСтрахование, защищённа...</td>\n",
       "      <td>продолжение отзыва альфастрахование защищенная...</td>\n",
       "      <td>Negative</td>\n",
       "    </tr>\n",
       "  </tbody>\n",
       "</table>\n",
       "<p>6000 rows × 3 columns</p>\n",
       "</div>"
      ],
      "text/plain": [
       "                                                    Text  \\\n",
       "idx                                                        \n",
       "13999  Замечательная история об открытии счета в банк...   \n",
       "14000  23.07.14г. я досрочно внес сумму, указанную оп...   \n",
       "14001  Была задолженность по кредитной карте. Банк по...   \n",
       "14002  Срочно понадобилась определенная денежная сумм...   \n",
       "14003  Здравствуйте. В местном отделении Бинбанка г. ...   \n",
       "...                                                  ...   \n",
       "19994  Уважаемые представители Русфинанс Банка! Прошу...   \n",
       "19995  04 июня сняли с дебетовой карты банка 10 000 T...   \n",
       "19996  В апреле решил я купить шуруповерт. Посмотрел ...   \n",
       "19997  Недавно взял потребкредит в этом банке. Все че...   \n",
       "19998  Продолжение отзыва АльфаСтрахование, защищённа...   \n",
       "\n",
       "                                                  review     Score  \n",
       "idx                                                                 \n",
       "13999  замечательная история об открытии счета в банк...  Negative  \n",
       "14000  23 7 14г я досрочно внес сумму указанную опера...  Negative  \n",
       "14001  была задолженность по кредитной карте банк под...  Negative  \n",
       "14002  срочно понадобилась определенная денежная сумм...  Negative  \n",
       "14003  здравствуйте в местном отделении бинбанка г ку...  Negative  \n",
       "...                                                  ...       ...  \n",
       "19994  уважаемые представители русфинанс банка прошу ...  Positive  \n",
       "19995  4 июня сняли с дебетовой карты банка 1 twd 12 ...  Positive  \n",
       "19996  в апреле решил я купить шуруповерт посмотрел ц...  Negative  \n",
       "19997  недавно взял потребкредит в этом банке все чес...  Positive  \n",
       "19998  продолжение отзыва альфастрахование защищенная...  Negative  \n",
       "\n",
       "[6000 rows x 3 columns]"
      ]
     },
     "execution_count": 16,
     "metadata": {},
     "output_type": "execute_result"
    }
   ],
   "source": [
    "test_data['Score'] = [class_names[numpy.argmax(i)] for i in y_test]\n",
    "test_data"
   ]
  },
  {
   "cell_type": "markdown",
   "metadata": {},
   "source": [
    "---\n",
    "Сохраняем результат в файл submission.csv"
   ]
  },
  {
   "cell_type": "code",
   "execution_count": 17,
   "metadata": {},
   "outputs": [],
   "source": [
    "test_data.to_csv('submission.csv', sep='\\t', index=True, columns=['Score'])"
   ]
  }
 ],
 "metadata": {
  "kernelspec": {
   "display_name": "Python 3.8",
   "language": "python",
   "name": "python38"
  },
  "language_info": {
   "codemirror_mode": {
    "name": "ipython",
    "version": 3
   },
   "file_extension": ".py",
   "mimetype": "text/x-python",
   "name": "python",
   "nbconvert_exporter": "python",
   "pygments_lexer": "ipython3",
   "version": "3.8.13"
  }
 },
 "nbformat": 4,
 "nbformat_minor": 4
}
